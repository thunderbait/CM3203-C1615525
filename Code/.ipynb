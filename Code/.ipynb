{
 "cells": [
  {
   "cell_type": "markdown",
   "metadata": {},
   "source": [
    "# Data Cleaning"
   ]
  },
  {
   "cell_type": "markdown",
   "metadata": {},
   "source": [
    "### Load libraries, data"
   ]
  },
  {
   "cell_type": "code",
   "execution_count": 6,
   "metadata": {},
   "outputs": [],
   "source": [
    "import os\n",
    "import gc\n",
    "import json\n",
    "import time\n",
    "from datetime import datetime\n",
    "import numpy as np\n",
    "import pandas as pd\n",
    "from pandas.io.json import json_normalize\n",
    "\n",
    "import warnings\n",
    "warnings.filterwarnings('ignore')"
   ]
  },
  {
   "cell_type": "code",
   "execution_count": 7,
   "metadata": {},
   "outputs": [],
   "source": [
    "def process_dfs(train_df, test_df):\n",
    "    print(\"Processing dfs...\")\n",
    "    print(\"Dropping repeated columns...\")\n",
    "    columns = [col for col in train_df.columns if train_df[col].nunique() > 1]\n",
    "    \n",
    "    train_df = train_df[columns]\n",
    "    test_df = test_df[columns]\n",
    "\n",
    "    trn_len = train_df.shape[0]\n",
    "    \n",
    "    merged_df = pd.concat([train_df, test_df])\n",
    "\n",
    "    merged_df['diff_visitId_time'] = merged_df['visitId'] - merged_df['visitStartTime']\n",
    "    merged_df['diff_visitId_time'] = (merged_df['diff_visitId_time'] != 0).astype(int)\n",
    "    del merged_df['visitId']\n",
    "\n",
    "    print(\"Generating date columns...\")\n",
    "    format_str = '%Y%m%d' \n",
    "    merged_df['formated_date'] = merged_df['date'].apply(lambda x: datetime.strptime(str(x), format_str))\n",
    "    merged_df['WoY'] = merged_df['formated_date'].apply(lambda x: x.isocalendar()[1])\n",
    "    merged_df['month'] = merged_df['formated_date'].apply(lambda x:x.month)\n",
    "    merged_df['quarter_month'] = merged_df['formated_date'].apply(lambda x:x.day//8)\n",
    "    merged_df['weekday'] = merged_df['formated_date'].apply(lambda x:x.weekday())\n",
    "\n",
    "    del merged_df['date']\n",
    "    del merged_df['formated_date']\n",
    "\n",
    "    merged_df['formated_visitStartTime'] = merged_df['visitStartTime'].apply(lambda x: time.strftime('%Y-%m-%d %H:%M:%S', time.localtime(x)))\n",
    "    merged_df['formated_visitStartTime'] = pd.to_datetime(merged_df['formated_visitStartTime'])\n",
    "    merged_df['visit_hour'] = merged_df['formated_visitStartTime'].apply(lambda x: x.hour)\n",
    "\n",
    "    del merged_df['visitStartTime']\n",
    "    del merged_df['formated_visitStartTime']\n",
    "\n",
    "    print(\"Encoding columns with pd.factorize()\")\n",
    "    for col in merged_df.columns:\n",
    "        if col in ['fullVisitorId', 'month', 'quarter_month', 'weekday', 'visit_hour', 'WoY']: continue\n",
    "        if merged_df[col].dtypes == object or merged_df[col].dtypes == bool: merged_df[col], indexer = pd.factorize(merged_df[col])\n",
    "\n",
    "    print(\"Splitting back...\")\n",
    "    train_df = merged_df[:trn_len]\n",
    "    test_df = merged_df[trn_len:]\n",
    "    print(\"Done!\")\n",
    "    \n",
    "    return train_df, test_df"
   ]
  },
  {
   "cell_type": "code",
   "execution_count": 10,
   "metadata": {},
   "outputs": [],
   "source": [
    "def preprocess():\n",
    "    train_df = pd.read_csv('train-flattened.csv', dtype = {'fullVisitorId' : np.str})\n",
    "    test_df = pd.read_csv('test-flattened.csv', dtype = {'fullVisitorId' : np.str})\n",
    "\n",
    "    target = train_df['totals.transactionRevenue'].fillna(0).astype(float)\n",
    "    target = target.apply(lambda x: np.log1p(x))\n",
    "    \n",
    "    del train_df['totals.transactionRevenue']\n",
    "\n",
    "    train_df, test_df = process_dfs(train_df, test_df)\n",
    "    train_df.to_csv('train-flat-clean.csv', index=False)\n",
    "    test_df.to_csv('test-flat-clean.csv', index=False)\n",
    "    target.to_csv('target.csv', index=False)"
   ]
  },
  {
   "cell_type": "code",
   "execution_count": 11,
   "metadata": {},
   "outputs": [
    {
     "name": "stdout",
     "output_type": "stream",
     "text": [
      "Processing dfs...\n",
      "Dropping repeated columns...\n",
      "Generating date columns...\n",
      "Encoding columns with pd.factorize()\n",
      "Splitting back...\n"
     ]
    }
   ],
   "source": [
    "preprocess()"
   ]
  },
  {
   "cell_type": "code",
   "execution_count": null,
   "metadata": {},
   "outputs": [],
   "source": []
  }
 ],
 "metadata": {
  "kernelspec": {
   "display_name": "Python 3",
   "language": "python",
   "name": "python3"
  },
  "language_info": {
   "codemirror_mode": {
    "name": "ipython",
    "version": 3
   },
   "file_extension": ".py",
   "mimetype": "text/x-python",
   "name": "python",
   "nbconvert_exporter": "python",
   "pygments_lexer": "ipython3",
   "version": "3.7.2"
  }
 },
 "nbformat": 4,
 "nbformat_minor": 2
}
