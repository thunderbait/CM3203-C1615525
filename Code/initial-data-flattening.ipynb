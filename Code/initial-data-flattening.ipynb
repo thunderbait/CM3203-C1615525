{
 "cells": [
  {
   "cell_type": "markdown",
   "metadata": {},
   "source": [
    "# Flattening dataset"
   ]
  },
  {
   "cell_type": "code",
   "execution_count": 1,
   "metadata": {},
   "outputs": [],
   "source": [
    "import os\n",
    "import json\n",
    "import gc\n",
    "import numpy as np\n",
    "import pandas as pd\n",
    "from pandas.io.json import json_normalize"
   ]
  },
  {
   "cell_type": "code",
   "execution_count": 2,
   "metadata": {
    "scrolled": true
   },
   "outputs": [
    {
     "data": {
      "text/plain": [
       "'C:\\\\Users\\\\sotha\\\\Documents\\\\Third-Year\\\\Final-Year-Project\\\\GA-Customer-Revenue-Prediction\\\\Code'"
      ]
     },
     "execution_count": 2,
     "metadata": {},
     "output_type": "execute_result"
    }
   ],
   "source": [
    "os.getcwd()"
   ]
  },
  {
   "cell_type": "markdown",
   "metadata": {},
   "source": [
    "### Formula to flatten dataset"
   ]
  },
  {
   "cell_type": "code",
   "execution_count": 3,
   "metadata": {},
   "outputs": [],
   "source": [
    "gc.enable()\n",
    "\n",
    "features = ['channelGrouping', 'date', 'fullVisitorId', 'visitId',\\\n",
    "       'visitNumber', 'visitStartTime', 'device.browser',\\\n",
    "       'device.deviceCategory', 'device.isMobile', 'device.operatingSystem',\\\n",
    "       'geoNetwork.city', 'geoNetwork.continent', 'geoNetwork.country',\\\n",
    "       'geoNetwork.metro', 'geoNetwork.networkDomain', 'geoNetwork.region',\\\n",
    "       'geoNetwork.subContinent', 'totals.bounces', 'totals.hits',\\\n",
    "       'totals.newVisits', 'totals.pageviews', 'totals.transactionRevenue',\\\n",
    "       'trafficSource.adContent', 'trafficSource.campaign',\\\n",
    "       'trafficSource.isTrueDirect', 'trafficSource.keyword',\\\n",
    "       'trafficSource.medium', 'trafficSource.referralPath',\\\n",
    "       'trafficSource.source', 'customDimensions']\n",
    "\n",
    "def load_df(csv_path):\n",
    "# credit to : https://www.kaggle.com/julian3833/1-quick-start-read-csv-and-flatten-json-fields\n",
    "\n",
    "    JSON_COLUMNS = ['device', 'geoNetwork', 'totals', 'trafficSource']\n",
    "    ans = pd.DataFrame()\n",
    "    dfs = pd.read_csv(csv_path, sep=',',\n",
    "            converters={column: json.loads for column in JSON_COLUMNS}, # deserialise JSON columns\n",
    "            dtype={'fullVisitorId': 'str'}, # unique key - convert to string\n",
    "            chunksize=100000) #load by chunk \n",
    "    for df in dfs:\n",
    "        df.reset_index(drop=True, inplace=True)\n",
    "        for column in JSON_COLUMNS:\n",
    "            column_as_df = json_normalize(df[column])\n",
    "            column_as_df.columns = [f\"{column}.{subcolumn}\" for subcolumn in column_as_df.columns]\n",
    "            df = df.drop(column, axis=1).merge(column_as_df, right_index=True, left_index=True)\n",
    "\n",
    "        use_df = df[features]\n",
    "        del df\n",
    "        gc.collect()\n",
    "        ans = pd.concat([ans, use_df], axis=0).reset_index(drop=True)\n",
    "    return ans"
   ]
  },
  {
   "cell_type": "code",
   "execution_count": 5,
   "metadata": {
    "scrolled": false
   },
   "outputs": [
    {
     "name": "stdout",
     "output_type": "stream",
     "text": [
      "Wall time: 13min 38s\n"
     ]
    }
   ],
   "source": [
    "%%time\n",
    "train_df = load_df('../Input/train_v2.csv')\n",
    "test_df = load_df('../Input/test_v2.csv')"
   ]
  },
  {
   "cell_type": "code",
   "execution_count": 11,
   "metadata": {},
   "outputs": [
    {
     "data": {
      "text/plain": [
       "(1708337, 30)"
      ]
     },
     "execution_count": 11,
     "metadata": {},
     "output_type": "execute_result"
    }
   ],
   "source": [
    "train_df.shape"
   ]
  },
  {
   "cell_type": "markdown",
   "metadata": {},
   "source": [
    "### Columns of flattened train set "
   ]
  },
  {
   "cell_type": "code",
   "execution_count": 6,
   "metadata": {
    "scrolled": true
   },
   "outputs": [
    {
     "name": "stdout",
     "output_type": "stream",
     "text": [
      "Index(['channelGrouping', 'date', 'fullVisitorId', 'visitId', 'visitNumber',\n",
      "       'visitStartTime', 'device.browser', 'device.deviceCategory',\n",
      "       'device.isMobile', 'device.operatingSystem', 'geoNetwork.city',\n",
      "       'geoNetwork.continent', 'geoNetwork.country', 'geoNetwork.metro',\n",
      "       'geoNetwork.networkDomain', 'geoNetwork.region',\n",
      "       'geoNetwork.subContinent', 'totals.bounces', 'totals.hits',\n",
      "       'totals.newVisits', 'totals.pageviews', 'totals.transactionRevenue',\n",
      "       'trafficSource.adContent', 'trafficSource.campaign',\n",
      "       'trafficSource.isTrueDirect', 'trafficSource.keyword',\n",
      "       'trafficSource.medium', 'trafficSource.referralPath',\n",
      "       'trafficSource.source', 'customDimensions'],\n",
      "      dtype='object')\n"
     ]
    },
    {
     "data": {
      "text/plain": [
       "30"
      ]
     },
     "execution_count": 6,
     "metadata": {},
     "output_type": "execute_result"
    }
   ],
   "source": [
    "print(train_df.columns)\n",
    "len(train_df.columns)"
   ]
  },
  {
   "cell_type": "markdown",
   "metadata": {},
   "source": [
    "### Columns of flattened test set "
   ]
  },
  {
   "cell_type": "code",
   "execution_count": 7,
   "metadata": {
    "scrolled": false
   },
   "outputs": [
    {
     "name": "stdout",
     "output_type": "stream",
     "text": [
      "Index(['channelGrouping', 'date', 'fullVisitorId', 'visitId', 'visitNumber',\n",
      "       'visitStartTime', 'device.browser', 'device.deviceCategory',\n",
      "       'device.isMobile', 'device.operatingSystem', 'geoNetwork.city',\n",
      "       'geoNetwork.continent', 'geoNetwork.country', 'geoNetwork.metro',\n",
      "       'geoNetwork.networkDomain', 'geoNetwork.region',\n",
      "       'geoNetwork.subContinent', 'totals.bounces', 'totals.hits',\n",
      "       'totals.newVisits', 'totals.pageviews', 'totals.transactionRevenue',\n",
      "       'trafficSource.adContent', 'trafficSource.campaign',\n",
      "       'trafficSource.isTrueDirect', 'trafficSource.keyword',\n",
      "       'trafficSource.medium', 'trafficSource.referralPath',\n",
      "       'trafficSource.source', 'customDimensions'],\n",
      "      dtype='object')\n"
     ]
    },
    {
     "data": {
      "text/plain": [
       "30"
      ]
     },
     "execution_count": 7,
     "metadata": {},
     "output_type": "execute_result"
    }
   ],
   "source": [
    "print(test_df.columns)\n",
    "len(test_df.columns)"
   ]
  },
  {
   "cell_type": "markdown",
   "metadata": {},
   "source": [
    "### Columns of flattened train set vs. flattened test set"
   ]
  },
  {
   "cell_type": "code",
   "execution_count": 8,
   "metadata": {
    "scrolled": true
   },
   "outputs": [
    {
     "data": {
      "text/plain": [
       "Index([], dtype='object')"
      ]
     },
     "execution_count": 8,
     "metadata": {},
     "output_type": "execute_result"
    }
   ],
   "source": [
    "train_df.columns.difference(test_df.columns)"
   ]
  },
  {
   "cell_type": "markdown",
   "metadata": {},
   "source": [
    "### Make csv file"
   ]
  },
  {
   "cell_type": "code",
   "execution_count": 9,
   "metadata": {},
   "outputs": [],
   "source": [
    "train_df.to_csv(\"train-flattened.csv\", index=False)\n",
    "test_df.to_csv(\"test-flattened.csv\", index=False)"
   ]
  }
 ],
 "metadata": {
  "kernelspec": {
   "display_name": "Python 3",
   "language": "python",
   "name": "python3"
  },
  "language_info": {
   "codemirror_mode": {
    "name": "ipython",
    "version": 3
   },
   "file_extension": ".py",
   "mimetype": "text/x-python",
   "name": "python",
   "nbconvert_exporter": "python",
   "pygments_lexer": "ipython3",
   "version": "3.7.2"
  }
 },
 "nbformat": 4,
 "nbformat_minor": 2
}
