{
 "cells": [
  {
   "cell_type": "code",
   "execution_count": 11,
   "metadata": {},
   "outputs": [],
   "source": [
    "import os\n",
    "import gc\n",
    "import json\n",
    "import time\n",
    "from datetime import datetime\n",
    "import numpy as np\n",
    "import pandas as pd\n",
    "from pandas.io.json import json_normalize\n",
    "\n",
    "import lightgbm as lgb\n",
    "import xgboost as xgb\n",
    "from catboost import CatBoostRegressor\n",
    "\n",
    "from sklearn.model_selection import train_test_split\n",
    "from sklearn.metrics import mean_squared_error\n",
    "\n",
    "import warnings\n",
    "warnings.filterwarnings('ignore')"
   ]
  },
  {
   "cell_type": "code",
   "execution_count": 3,
   "metadata": {},
   "outputs": [],
   "source": [
    "def process_dfs(train_df, test_df):\n",
    "    print(\"Processing dfs...\")\n",
    "    print(\"Dropping repeated columns...\")\n",
    "    columns = [col for col in train_df.columns if train_df[col].nunique() > 1]\n",
    "\n",
    "    train_df = train_df[columns]\n",
    "    test_df = test_df[columns]\n",
    "\n",
    "    trn_len = train_df.shape[0]\n",
    "\n",
    "    merged_df = pd.concat([train_df, test_df])\n",
    "\n",
    "    merged_df['diff_visitId_time'] = merged_df['visitId'] - merged_df['visitStartTime']\n",
    "    merged_df['diff_visitId_time'] = (merged_df['diff_visitId_time'] != 0).astype(int)\n",
    "    del merged_df['visitId']\n",
    "\n",
    "    print(\"Generating date columns...\")\n",
    "    format_str = '%Y%m%d'\n",
    "    merged_df['formated_date'] = merged_df['date'].apply(lambda x: datetime.strptime(str(x), format_str))\n",
    "    merged_df['WoY'] = merged_df['formated_date'].apply(lambda x: x.isocalendar()[1])\n",
    "    merged_df['month'] = merged_df['formated_date'].apply(lambda x:x.month)\n",
    "    merged_df['quarter_month'] = merged_df['formated_date'].apply(lambda x:x.day//8)\n",
    "    merged_df['weekday'] = merged_df['formated_date'].apply(lambda x:x.weekday())\n",
    "\n",
    "    del merged_df['date']\n",
    "    del merged_df['formated_date']\n",
    "\n",
    "    merged_df['formated_visitStartTime'] = merged_df['visitStartTime'].apply(lambda x: time.strftime('%Y-%m-%d %H:%M:%S', time.localtime(x)))\n",
    "    merged_df['formated_visitStartTime'] = pd.to_datetime(merged_df['formated_visitStartTime'])\n",
    "    merged_df['visit_hour'] = merged_df['formated_visitStartTime'].apply(lambda x: x.hour)\n",
    "\n",
    "    del merged_df['visitStartTime']\n",
    "    del merged_df['formated_visitStartTime']\n",
    "\n",
    "    print(\"Encoding columns with pd.factorize()\")\n",
    "    for col in merged_df.columns:\n",
    "        if col in ['fullVisitorId', 'month', 'quarter_month', 'weekday', 'visit_hour', 'WoY']: continue\n",
    "        if merged_df[col].dtypes == object or merged_df[col].dtypes == bool: merged_df[col], indexer = pd.factorize(merged_df[col])\n",
    "\n",
    "    print(\"Splitting back...\")\n",
    "    train_df = merged_df[:trn_len]\n",
    "    test_df = merged_df[trn_len:]\n",
    "    print(\"Done!\")\n",
    "\n",
    "    return train_df, test_df"
   ]
  },
  {
   "cell_type": "code",
   "execution_count": 4,
   "metadata": {},
   "outputs": [],
   "source": [
    "def preprocess():\n",
    "    train_df = pd.read_csv('train-flattened.csv', dtype = {'fullVisitorId' : np.str})\n",
    "    test_df = pd.read_csv('test-flattened.csv', dtype = {'fullVisitorId' : np.str})\n",
    "\n",
    "    target = train_df['totals.transactionRevenue'].fillna(0).astype(float)\n",
    "    target = target.apply(lambda x: np.log1p(x))\n",
    "\n",
    "    del train_df['totals.transactionRevenue']\n",
    "\n",
    "    train_df, test_df = process_dfs(train_df, test_df)\n",
    "    train_df.to_csv('train-flat-clean.csv', index=False)\n",
    "    test_df.to_csv('test-flat-clean.csv', index=False)\n",
    "    target.to_csv('target.csv', index=False)"
   ]
  },
  {
   "cell_type": "code",
   "execution_count": 5,
   "metadata": {},
   "outputs": [
    {
     "name": "stdout",
     "output_type": "stream",
     "text": [
      "Processing dfs...\n",
      "Dropping repeated columns...\n",
      "Generating date columns...\n",
      "Encoding columns with pd.factorize()\n",
      "Splitting back...\n",
      "Done!\n"
     ]
    }
   ],
   "source": [
    "preprocess()"
   ]
  },
  {
   "cell_type": "code",
   "execution_count": 9,
   "metadata": {},
   "outputs": [],
   "source": [
    "def rmse(y_true, y_pred):\n",
    "    return round(np.sqrt(mean_squared_error(y_true, y_pred)), 5)\n",
    "\n",
    "def load_preprocessed_dfs(drop_full_visitor_id=True):\n",
    "\n",
    "    X_train = pd.read_csv('train-flat-clean.csv', converters={'fullVisitorId': str})\n",
    "    X_test = pd.read_csv('test-flat-clean.csv', converters={'fullVisitorId': str})\n",
    "    y_train = pd.read_csv('target.csv', names=['LogRevenue']).T.squeeze()\n",
    "    \n",
    "    # This is the only `object` column, we drop it for train and evaluation\n",
    "    if drop_full_visitor_id: \n",
    "        X_train = X_train.drop(['fullVisitorId'], axis=1)\n",
    "        X_test = X_test.drop(['fullVisitorId'], axis=1)\n",
    "    return X_train, y_train, X_test"
   ]
  },
  {
   "cell_type": "code",
   "execution_count": 12,
   "metadata": {},
   "outputs": [
    {
     "name": "stdout",
     "output_type": "stream",
     "text": [
      "Train shape: (1452086, 28)\n",
      "Validation shape: (256251, 28)\n",
      "Test (submit) shape: (401589, 28)\n"
     ]
    }
   ],
   "source": [
    "X, y, X_test = load_preprocessed_dfs()\n",
    "X_train, X_val, y_train, y_val = train_test_split(X, y, test_size=0.15, random_state=1)\n",
    "\n",
    "print(f\"Train shape: {X_train.shape}\")\n",
    "print(f\"Validation shape: {X_val.shape}\")\n",
    "print(f\"Test (submit) shape: {X_test.shape}\")"
   ]
  },
  {
   "cell_type": "code",
   "execution_count": 13,
   "metadata": {},
   "outputs": [],
   "source": [
    "def run_lgb(X_train, y_train, X_val, y_val, X_test):\n",
    "    \n",
    "    params = {\n",
    "        \"objective\" : \"regression\",\n",
    "        \"metric\" : \"rmse\",\n",
    "        \"num_leaves\" : 40,\n",
    "        \"learning_rate\" : 0.005,\n",
    "        \"bagging_fraction\" : 0.6,\n",
    "        \"feature_fraction\" : 0.6,\n",
    "        \"bagging_frequency\" : 6,\n",
    "        \"bagging_seed\" : 42,\n",
    "        \"verbosity\" : 1,\n",
    "        \"seed\": 42\n",
    "    }\n",
    "    \n",
    "    lgb_train_data = lgb.Dataset(X_train, label=y_train)\n",
    "    lgb_val_data = lgb.Dataset(X_val, label=y_val)\n",
    "\n",
    "    model = lgb.train(params, lgb_train_data, \n",
    "                      num_boost_round=5000,\n",
    "                      valid_sets=[lgb_train_data, lgb_val_data],\n",
    "                      early_stopping_rounds=100,\n",
    "                      verbose_eval=500)\n",
    "\n",
    "    y_pred_train = model.predict(X_train, num_iteration=model.best_iteration)\n",
    "    y_pred_val = model.predict(X_val, num_iteration=model.best_iteration)\n",
    "    y_pred_submit = model.predict(X_test, num_iteration=model.best_iteration)\n",
    "\n",
    "    print(f\"LGBM: RMSE val: {rmse(y_val, y_pred_val)}  - RMSE train: {rmse(y_train, y_pred_train)}\")\n",
    "    return y_pred_submit, model"
   ]
  },
  {
   "cell_type": "code",
   "execution_count": null,
   "metadata": {},
   "outputs": [],
   "source": [
    "def run_xgb(X_train, y_train, X_val, y_val, X_test):\n",
    "    params = {'objective': 'reg:linear',\n",
    "              'eval_metric': 'rmse',\n",
    "              'eta': 0.001,\n",
    "              'max_depth': 10,\n",
    "              'subsample': 0.6,\n",
    "              'colsample_bytree': 0.6,\n",
    "              'alpha':0.001,\n",
    "              'random_state': 42,\n",
    "              'silent': True}\n",
    "\n",
    "    xgb_train_data = xgb.DMatrix(X_train, y_train)\n",
    "    xgb_val_data = xgb.DMatrix(X_val, y_val)\n",
    "    xgb_submit_data = xgb.DMatrix(X_test)\n",
    "\n",
    "    model = xgb.train(params, xgb_train_data, \n",
    "                      num_boost_round=2000, \n",
    "                      evals= [(xgb_train_data, 'train'), (xgb_val_data, 'valid')],\n",
    "                      early_stopping_rounds=100, \n",
    "                      verbose_eval=500\n",
    "                     )\n",
    "\n",
    "    y_pred_train = model.predict(xgb_train_data, ntree_limit=model.best_ntree_limit)\n",
    "    y_pred_val = model.predict(xgb_val_data, ntree_limit=model.best_ntree_limit)\n",
    "    y_pred_submit = model.predict(xgb_submit_data, ntree_limit=model.best_ntree_limit)\n",
    "\n",
    "    print(f\"XGB : RMSE val: {rmse(y_val, y_pred_val)}  - RMSE train: {rmse(y_train, y_pred_train)}\")\n",
    "    return y_pred_submit, model"
   ]
  },
  {
   "cell_type": "code",
   "execution_count": null,
   "metadata": {},
   "outputs": [],
   "source": [
    "def run_catboost(X_train, y_train, X_val, y_val, X_test):\n",
    "    model = CatBoostRegressor(iterations=1000,\n",
    "                             learning_rate=0.05,\n",
    "                             depth=10,\n",
    "                             eval_metric='RMSE',\n",
    "                             random_seed = 42,\n",
    "                             bagging_temperature = 0.2,\n",
    "                             od_type='Iter',\n",
    "                             metric_period = 50, \n",
    "                             od_wait=20)\n",
    "    model.fit(X_train, y_train,\n",
    "              eval_set=(X_val, y_val),\n",
    "              use_best_model=True,\n",
    "              verbose=50)\n",
    "    \n",
    "    y_pred_train = model.predict(X_train)\n",
    "    y_pred_val = model.predict(X_val)\n",
    "    y_pred_submit = model.predict(X_test)\n",
    "\n",
    "    print(f\"CatB: RMSE val: {rmse(y_val, y_pred_val)}  - RMSE train: {rmse(y_train, y_pred_train)}\")\n",
    "    return y_pred_submit, model"
   ]
  },
  {
   "cell_type": "code",
   "execution_count": 14,
   "metadata": {},
   "outputs": [
    {
     "name": "stdout",
     "output_type": "stream",
     "text": [
      "Training until validation scores don't improve for 100 rounds.\n",
      "[500]\ttraining's rmse: 1.54423\tvalid_1's rmse: 1.54925\n",
      "[1000]\ttraining's rmse: 1.51136\tvalid_1's rmse: 1.52649\n",
      "[1500]\ttraining's rmse: 1.49538\tvalid_1's rmse: 1.51993\n",
      "[2000]\ttraining's rmse: 1.48426\tvalid_1's rmse: 1.51742\n",
      "[2500]\ttraining's rmse: 1.47444\tvalid_1's rmse: 1.51563\n",
      "[3000]\ttraining's rmse: 1.46374\tvalid_1's rmse: 1.51284\n",
      "[3500]\ttraining's rmse: 1.45537\tvalid_1's rmse: 1.51164\n",
      "[4000]\ttraining's rmse: 1.44742\tvalid_1's rmse: 1.51102\n",
      "[4500]\ttraining's rmse: 1.44024\tvalid_1's rmse: 1.51045\n",
      "Early stopping, best iteration is:\n",
      "[4541]\ttraining's rmse: 1.43978\tvalid_1's rmse: 1.51041\n",
      "LGBM: RMSE val: 1.51041  - RMSE train: 1.43978\n",
      "Wall time: 16min 6s\n"
     ]
    }
   ],
   "source": [
    "%%time\n",
    "# Train LGBM and generate predictions\n",
    "lgb_preds, lgb_model = run_lgb(X_train, y_train, X_val, y_val, X_test)"
   ]
  },
  {
   "cell_type": "code",
   "execution_count": null,
   "metadata": {},
   "outputs": [],
   "source": [
    "%%time\n",
    "# Train XGBoost and generate predictions\n",
    "xgb_preds, xgb_model = run_xgb(X_train, y_train, X_val, y_val, X_test)"
   ]
  },
  {
   "cell_type": "code",
   "execution_count": null,
   "metadata": {},
   "outputs": [],
   "source": [
    "%%time\n",
    "# Train Catboost and generate predictions\n",
    "cat_preds, cat_model = run_catboost(X_train, y_train, X_val, y_val,  X_test)"
   ]
  },
  {
   "cell_type": "code",
   "execution_count": null,
   "metadata": {},
   "outputs": [],
   "source": [
    "def submission(predictions, filename='submit.csv'):\n",
    "    # Takes a 1d-array of predictions and generates a submission file\n",
    "    _, _, X_submit = load_preprocessed_dfs(drop_full_visitor_id=False)\n",
    "    submission = X_submit[['fullVisitorId']].copy()\n",
    "    submission.loc[:, 'PredictedLogRevenue'] = predictions\n",
    "    grouped_test = submission[['fullVisitorId', 'PredictedLogRevenue']].groupby('fullVisitorId').sum().reset_index()\n",
    "    grouped_test.to_csv(filename,index=False)"
   ]
  },
  {
   "cell_type": "code",
   "execution_count": null,
   "metadata": {},
   "outputs": [],
   "source": [
    "submission(lgb_preds, \"submit-lgb.csv\")\n",
    "submission(xgb_preds, \"submit-xgb.csv\")\n",
    "submission(cat_preds, \"submit-cat.csv\")\n",
    "submission(ensemble_preds_70_30_00, \"submit-ensemble-70-30-00.csv\")\n",
    "submission(ensemble_preds_70_25_05, \"submit-ensemble-70-25-05.csv\")\n",
    "\n",
    "ensemble_preds_70_30_00_pos = np.where(ensemble_preds_70_30_00 < 0, 0, ensemble_preds_70_30_00)\n",
    "submission(ensemble_preds_70_30_00_pos, \"submit-ensemble-70-30-00-positive.csv\")\n",
    "\n",
    "ensemble_preds_70_25_05_pos = np.where(ensemble_preds_70_25_05 < 0, 0, ensemble_preds_70_25_05)\n",
    "submission(ensemble_preds_70_25_05_pos, \"submit-ensemble-70-25-05-positive.csv\")"
   ]
  }
 ],
 "metadata": {
  "kernelspec": {
   "display_name": "Python 3",
   "language": "python",
   "name": "python3"
  },
  "language_info": {
   "codemirror_mode": {
    "name": "ipython",
    "version": 3
   },
   "file_extension": ".py",
   "mimetype": "text/x-python",
   "name": "python",
   "nbconvert_exporter": "python",
   "pygments_lexer": "ipython3",
   "version": "3.7.2"
  }
 },
 "nbformat": 4,
 "nbformat_minor": 2
}
