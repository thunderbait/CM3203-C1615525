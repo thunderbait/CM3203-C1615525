{
 "cells": [
  {
   "cell_type": "markdown",
   "metadata": {
    "_cell_guid": "b1076dfc-b9ad-4769-8c92-a6c4dae69d19",
    "_uuid": "8f2839f25d086af736a60e9eeb907d3b93b6e0e5"
   },
   "source": [
    "## Baseline Model - XGBoost:"
   ]
  },
  {
   "cell_type": "code",
   "execution_count": 1,
   "metadata": {},
   "outputs": [],
   "source": [
    "import os\n",
    "import gc\n",
    "import json\n",
    "import time\n",
    "from datetime import datetime\n",
    "import numpy as np\n",
    "import pandas as pd\n",
    "from pandas.io.json import json_normalize\n",
    "from sklearn.model_selection import train_test_split\n",
    "from sklearn.metrics import mean_squared_error\n",
    "\n",
    "import warnings\n",
    "warnings.filterwarnings('ignore')\n",
    "\n",
    "import xgboost as xgb"
   ]
  },
  {
   "cell_type": "code",
   "execution_count": 2,
   "metadata": {},
   "outputs": [],
   "source": [
    "def process_dfs(train_df, test_df):\n",
    "    print(\"Processing dfs...\")\n",
    "    print(\"Dropping repeated columns...\")\n",
    "    columns = [col for col in train_df.columns if train_df[col].nunique() > 1]\n",
    "\n",
    "    train_df = train_df[columns]\n",
    "    test_df = test_df[columns]\n",
    "\n",
    "    trn_len = train_df.shape[0]\n",
    "\n",
    "    merged_df = pd.concat([train_df, test_df])\n",
    "\n",
    "    merged_df['diff_visitId_time'] = merged_df['visitId'] - merged_df['visitStartTime']\n",
    "    merged_df['diff_visitId_time'] = (merged_df['diff_visitId_time'] != 0).astype(int)\n",
    "    del merged_df['visitId']\n",
    "\n",
    "    print(\"Generating date columns...\")\n",
    "    format_str = '%Y%m%d'\n",
    "    merged_df['formated_date'] = merged_df['date'].apply(lambda x: datetime.strptime(str(x), format_str))\n",
    "    merged_df['WoY'] = merged_df['formated_date'].apply(lambda x: x.isocalendar()[1])\n",
    "    merged_df['month'] = merged_df['formated_date'].apply(lambda x:x.month)\n",
    "    merged_df['quarter_month'] = merged_df['formated_date'].apply(lambda x:x.day//8)\n",
    "    merged_df['weekday'] = merged_df['formated_date'].apply(lambda x:x.weekday())\n",
    "\n",
    "    del merged_df['date']\n",
    "    del merged_df['formated_date']\n",
    "\n",
    "    merged_df['formated_visitStartTime'] = merged_df['visitStartTime'].apply(lambda x: time.strftime('%Y-%m-%d %H:%M:%S', time.localtime(x)))\n",
    "    merged_df['formated_visitStartTime'] = pd.to_datetime(merged_df['formated_visitStartTime'])\n",
    "    merged_df['visit_hour'] = merged_df['formated_visitStartTime'].apply(lambda x: x.hour)\n",
    "\n",
    "    del merged_df['visitStartTime']\n",
    "    del merged_df['formated_visitStartTime']\n",
    "\n",
    "    print(\"Encoding columns with pd.factorize()\")\n",
    "    for col in merged_df.columns:\n",
    "        if col in ['fullVisitorId', 'month', 'quarter_month', 'weekday', 'visit_hour', 'WoY']: continue\n",
    "        if merged_df[col].dtypes == object or merged_df[col].dtypes == bool: merged_df[col], indexer = pd.factorize(merged_df[col])\n",
    "\n",
    "    print(\"Splitting back...\")\n",
    "    train_df = merged_df[:trn_len]\n",
    "    test_df = merged_df[trn_len:]\n",
    "    print(\"Done!\")\n",
    "\n",
    "    return train_df, test_df"
   ]
  },
  {
   "cell_type": "code",
   "execution_count": 3,
   "metadata": {},
   "outputs": [],
   "source": [
    "def preprocess():\n",
    "    train_df = pd.read_csv('train-flattened.csv', dtype = {'fullVisitorId' : np.str})\n",
    "    test_df = pd.read_csv('test-flattened.csv', dtype = {'fullVisitorId' : np.str})\n",
    "\n",
    "    target = train_df['totals.transactionRevenue'].fillna(0).astype(float)\n",
    "    target = target.apply(lambda x: np.log1p(x))\n",
    "\n",
    "    del train_df['totals.transactionRevenue']\n",
    "\n",
    "    train_df, test_df = process_dfs(train_df, test_df)\n",
    "    train_df.to_csv('train-flat-clean.csv', index=False)\n",
    "    test_df.to_csv('test-flat-clean.csv', index=False)\n",
    "    target.to_csv('target.csv', index=False)"
   ]
  },
  {
   "cell_type": "code",
   "execution_count": 4,
   "metadata": {},
   "outputs": [
    {
     "name": "stdout",
     "output_type": "stream",
     "text": [
      "Processing dfs...\n",
      "Dropping repeated columns...\n",
      "Generating date columns...\n",
      "Encoding columns with pd.factorize()\n",
      "Splitting back...\n",
      "Done!\n"
     ]
    }
   ],
   "source": [
    "preprocess()"
   ]
  },
  {
   "cell_type": "code",
   "execution_count": 5,
   "metadata": {},
   "outputs": [],
   "source": [
    "def rmse(y_true, y_pred):\n",
    "    return round(np.sqrt(mean_squared_error(y_true, y_pred)), 5)\n",
    "\n",
    "def load_preprocessed_dfs(drop_full_visitor_id=True):\n",
    "\n",
    "    X_train = pd.read_csv('train-flat-clean.csv', converters={'fullVisitorId': str})\n",
    "    X_test = pd.read_csv('test-flat-clean.csv', converters={'fullVisitorId': str})\n",
    "    y_train = pd.read_csv('target.csv', names=['LogRevenue']).T.squeeze()\n",
    "    \n",
    "    # This is the only `object` column, we drop it for train and evaluation\n",
    "    if drop_full_visitor_id: \n",
    "        X_train = X_train.drop(['fullVisitorId'], axis=1)\n",
    "        X_test = X_test.drop(['fullVisitorId'], axis=1)\n",
    "    return X_train, y_train, X_test"
   ]
  },
  {
   "cell_type": "code",
   "execution_count": 6,
   "metadata": {},
   "outputs": [
    {
     "name": "stdout",
     "output_type": "stream",
     "text": [
      "Train shape: (1452086, 28)\n",
      "Validation shape: (256251, 28)\n",
      "Test (submit) shape: (401589, 28)\n"
     ]
    }
   ],
   "source": [
    "X, y, X_test = load_preprocessed_dfs()\n",
    "X_train, X_val, y_train, y_val = train_test_split(X, y, test_size=0.15, random_state=1)\n",
    "\n",
    "print(f\"Train shape: {X_train.shape}\")\n",
    "print(f\"Validation shape: {X_val.shape}\")\n",
    "print(f\"Test (submit) shape: {X_test.shape}\")"
   ]
  },
  {
   "cell_type": "code",
   "execution_count": 7,
   "metadata": {},
   "outputs": [],
   "source": [
    "def run_xgb(X_train, y_train, X_val, y_val, X_test):\n",
    "    params = {'objective': 'reg:linear',\n",
    "              'eval_metric': 'rmse',\n",
    "              'eta': 0.001,\n",
    "              'max_depth': 10,\n",
    "              'subsample': 0.6,\n",
    "              'colsample_bytree': 0.6,\n",
    "              'alpha':0.001,\n",
    "              'random_state': 42,\n",
    "              'silent': True}\n",
    "\n",
    "    xgb_train_data = xgb.DMatrix(X_train, y_train)\n",
    "    xgb_val_data = xgb.DMatrix(X_val, y_val)\n",
    "    xgb_submit_data = xgb.DMatrix(X_test)\n",
    "\n",
    "    model = xgb.train(params, xgb_train_data, \n",
    "                      num_boost_round=2000, \n",
    "                      evals= [(xgb_train_data, 'train'), (xgb_val_data, 'valid')],\n",
    "                      early_stopping_rounds=100, \n",
    "                      verbose_eval=500\n",
    "                     )\n",
    "\n",
    "    y_pred_train = model.predict(xgb_train_data, ntree_limit=model.best_ntree_limit)\n",
    "    y_pred_val = model.predict(xgb_val_data, ntree_limit=model.best_ntree_limit)\n",
    "    y_pred_submit = model.predict(xgb_submit_data, ntree_limit=model.best_ntree_limit)\n",
    "\n",
    "    print(f\"XGB : RMSE val: {rmse(y_val, y_pred_val)}  - RMSE train: {rmse(y_train, y_pred_train)}\")\n",
    "    return y_pred_submit, model"
   ]
  },
  {
   "cell_type": "code",
   "execution_count": null,
   "metadata": {},
   "outputs": [
    {
     "name": "stdout",
     "output_type": "stream",
     "text": [
      "[0]\ttrain-rmse:1.86942\tvalid-rmse:1.86609\n",
      "Multiple eval metrics have been passed: 'valid-rmse' will be used for early stopping.\n",
      "\n",
      "Will train until valid-rmse hasn't improved in 100 rounds.\n",
      "[500]\ttrain-rmse:1.68956\tvalid-rmse:1.69777\n"
     ]
    }
   ],
   "source": [
    "%%time\n",
    "xgb_preds, xgb_model = run_xgb(X_train, y_train, X_val, y_val, X_test)"
   ]
  }
 ],
 "metadata": {
  "kernelspec": {
   "display_name": "Python 3",
   "language": "python",
   "name": "python3"
  },
  "language_info": {
   "codemirror_mode": {
    "name": "ipython",
    "version": 3
   },
   "file_extension": ".py",
   "mimetype": "text/x-python",
   "name": "python",
   "nbconvert_exporter": "python",
   "pygments_lexer": "ipython3",
   "version": "3.7.2"
  }
 },
 "nbformat": 4,
 "nbformat_minor": 1
}
