{
 "cells": [
  {
   "cell_type": "code",
   "execution_count": 1,
   "metadata": {
    "_uuid": "f17c906e2cec8927778cc03ff0f2a0e2fc287e1d"
   },
   "outputs": [],
   "source": [
    "# numpy and pandas for data manipulation\n",
    "import numpy as np\n",
    "import pandas as pd \n",
    "\n",
    "# sklearn preprocessing for dealing with categorical variables\n",
    "from sklearn.preprocessing import LabelEncoder\n",
    "\n",
    "# File system manangement\n",
    "import os\n",
    "\n",
    "# Suppress warnings \n",
    "import warnings\n",
    "warnings.filterwarnings('ignore')\n",
    "\n",
    "# matplotlib and seaborn for plotting\n",
    "import matplotlib.pyplot as plt\n",
    "import seaborn as sns\n",
    "\n",
    "pd.options.display.max_columns=1000\n",
    "%matplotlib inline"
   ]
  },
  {
   "cell_type": "code",
   "execution_count": 2,
   "metadata": {},
   "outputs": [
    {
     "data": {
      "text/plain": [
       "'C:\\\\Users\\\\sotha\\\\Documents\\\\GitHub\\\\CM3203-C1615525\\\\Code'"
      ]
     },
     "execution_count": 2,
     "metadata": {},
     "output_type": "execute_result"
    }
   ],
   "source": [
    "os.getcwd()"
   ]
  },
  {
   "cell_type": "code",
   "execution_count": 3,
   "metadata": {
    "_uuid": "fcb8b3e73c800658ea3fce100b44989129b36d6c"
   },
   "outputs": [
    {
     "name": "stdout",
     "output_type": "stream",
     "text": [
      "Wall time: 25.8 s\n"
     ]
    }
   ],
   "source": [
    "%%time\n",
    "train_df = pd.read_csv(\"train-flat-clean.csv\", dtype={'fullVisitorId':str})#,parse_dates=['date'], date_parser=dateparse)\n",
    "test_df = pd.read_csv(\"test-flat-clean.csv\", dtype={'fullVisitorId':str})#,parse_dates=['date'], date_parser=dateparse)\n",
    "sample_submission = pd.read_csv(\"../Input/sample_submission_v2.csv\")"
   ]
  },
  {
   "cell_type": "code",
   "execution_count": 4,
   "metadata": {
    "_uuid": "f83f0ba4a34359652b1f8ac1d2743b19a0770250"
   },
   "outputs": [
    {
     "name": "stdout",
     "output_type": "stream",
     "text": [
      "Dimensions of the data (rows, cloumns):\n",
      "\n",
      "Size of train data (1708337, 34)\n",
      "Size of test data (401589, 34)\n",
      "Size of sample_submission data (296530, 2)\n",
      "Wall time: 7.09 ms\n"
     ]
    }
   ],
   "source": [
    "%%time\n",
    "print(\"Dimensions of the data (rows, cloumns):\\n\")\n",
    "print('Size of train data', train_df.shape)\n",
    "print('Size of test data', test_df.shape)\n",
    "print('Size of sample_submission data', sample_submission.shape)\n",
    "#export to report"
   ]
  },
  {
   "cell_type": "code",
   "execution_count": 5,
   "metadata": {
    "_uuid": "2e36b8795ab5723fb442da982deb254e6a483652"
   },
   "outputs": [
    {
     "data": {
      "text/html": [
       "<div>\n",
       "<style scoped>\n",
       "    .dataframe tbody tr th:only-of-type {\n",
       "        vertical-align: middle;\n",
       "    }\n",
       "\n",
       "    .dataframe tbody tr th {\n",
       "        vertical-align: top;\n",
       "    }\n",
       "\n",
       "    .dataframe thead th {\n",
       "        text-align: right;\n",
       "    }\n",
       "</style>\n",
       "<table border=\"1\" class=\"dataframe\">\n",
       "  <thead>\n",
       "    <tr style=\"text-align: right;\">\n",
       "      <th></th>\n",
       "      <th>channelGrouping</th>\n",
       "      <th>date</th>\n",
       "      <th>year</th>\n",
       "      <th>month</th>\n",
       "      <th>day</th>\n",
       "      <th>yearmonth</th>\n",
       "      <th>fullVisitorId</th>\n",
       "      <th>visitId</th>\n",
       "      <th>visitNumber</th>\n",
       "      <th>visitStartTime</th>\n",
       "      <th>device.browser</th>\n",
       "      <th>device.deviceCategory</th>\n",
       "      <th>device.isMobile</th>\n",
       "      <th>device.operatingSystem</th>\n",
       "      <th>geoNetwork.city</th>\n",
       "      <th>geoNetwork.continent</th>\n",
       "      <th>geoNetwork.country</th>\n",
       "      <th>geoNetwork.metro</th>\n",
       "      <th>geoNetwork.networkDomain</th>\n",
       "      <th>geoNetwork.region</th>\n",
       "      <th>geoNetwork.subContinent</th>\n",
       "      <th>totals.bounces</th>\n",
       "      <th>totals.hits</th>\n",
       "      <th>totals.newVisits</th>\n",
       "      <th>totals.pageviews</th>\n",
       "      <th>totals.transactionRevenue</th>\n",
       "      <th>trafficSource.adContent</th>\n",
       "      <th>trafficSource.campaign</th>\n",
       "      <th>trafficSource.isTrueDirect</th>\n",
       "      <th>trafficSource.keyword</th>\n",
       "      <th>trafficSource.medium</th>\n",
       "      <th>trafficSource.referralPath</th>\n",
       "      <th>trafficSource.source</th>\n",
       "      <th>customDimensions</th>\n",
       "    </tr>\n",
       "  </thead>\n",
       "  <tbody>\n",
       "    <tr>\n",
       "      <th>0</th>\n",
       "      <td>Direct</td>\n",
       "      <td>2016-08-01</td>\n",
       "      <td>2016</td>\n",
       "      <td>8</td>\n",
       "      <td>1</td>\n",
       "      <td>201608</td>\n",
       "      <td>6849420071276447389</td>\n",
       "      <td>1470074045</td>\n",
       "      <td>1.0</td>\n",
       "      <td>1.470074e+09</td>\n",
       "      <td>Safari</td>\n",
       "      <td>desktop</td>\n",
       "      <td>False</td>\n",
       "      <td>Macintosh</td>\n",
       "      <td>Cambridge</td>\n",
       "      <td>Americas</td>\n",
       "      <td>United States</td>\n",
       "      <td>Boston MA-Manchester NH</td>\n",
       "      <td>unknown.unknown</td>\n",
       "      <td>Massachusetts</td>\n",
       "      <td>Northern America</td>\n",
       "      <td>0.0</td>\n",
       "      <td>33.0</td>\n",
       "      <td>1.0</td>\n",
       "      <td>13.0</td>\n",
       "      <td>NaN</td>\n",
       "      <td>missing</td>\n",
       "      <td>(not set)</td>\n",
       "      <td>True</td>\n",
       "      <td>missing</td>\n",
       "      <td>(none)</td>\n",
       "      <td>missing</td>\n",
       "      <td>(direct)</td>\n",
       "      <td>[{'index': '4', 'value': 'North America'}]</td>\n",
       "    </tr>\n",
       "    <tr>\n",
       "      <th>1</th>\n",
       "      <td>Referral</td>\n",
       "      <td>2016-08-01</td>\n",
       "      <td>2016</td>\n",
       "      <td>8</td>\n",
       "      <td>1</td>\n",
       "      <td>201608</td>\n",
       "      <td>1231590494443171080</td>\n",
       "      <td>1470067091</td>\n",
       "      <td>2.0</td>\n",
       "      <td>1.470067e+09</td>\n",
       "      <td>Chrome</td>\n",
       "      <td>desktop</td>\n",
       "      <td>False</td>\n",
       "      <td>Chrome OS</td>\n",
       "      <td>Mountain View</td>\n",
       "      <td>Americas</td>\n",
       "      <td>United States</td>\n",
       "      <td>San Francisco-Oakland-San Jose CA</td>\n",
       "      <td>(not set)</td>\n",
       "      <td>California</td>\n",
       "      <td>Northern America</td>\n",
       "      <td>0.0</td>\n",
       "      <td>31.0</td>\n",
       "      <td>0.0</td>\n",
       "      <td>23.0</td>\n",
       "      <td>NaN</td>\n",
       "      <td>missing</td>\n",
       "      <td>(not set)</td>\n",
       "      <td>missing</td>\n",
       "      <td>missing</td>\n",
       "      <td>(none)</td>\n",
       "      <td>/</td>\n",
       "      <td>(direct)</td>\n",
       "      <td>[{'index': '4', 'value': 'North America'}]</td>\n",
       "    </tr>\n",
       "    <tr>\n",
       "      <th>2</th>\n",
       "      <td>Direct</td>\n",
       "      <td>2016-08-01</td>\n",
       "      <td>2016</td>\n",
       "      <td>8</td>\n",
       "      <td>1</td>\n",
       "      <td>201608</td>\n",
       "      <td>6751290259214798595</td>\n",
       "      <td>1470056945</td>\n",
       "      <td>1.0</td>\n",
       "      <td>1.470057e+09</td>\n",
       "      <td>Chrome</td>\n",
       "      <td>desktop</td>\n",
       "      <td>False</td>\n",
       "      <td>Macintosh</td>\n",
       "      <td>not available in demo dataset</td>\n",
       "      <td>Americas</td>\n",
       "      <td>United States</td>\n",
       "      <td>not available in demo dataset</td>\n",
       "      <td>(not set)</td>\n",
       "      <td>not available in demo dataset</td>\n",
       "      <td>Northern America</td>\n",
       "      <td>0.0</td>\n",
       "      <td>31.0</td>\n",
       "      <td>1.0</td>\n",
       "      <td>21.0</td>\n",
       "      <td>NaN</td>\n",
       "      <td>missing</td>\n",
       "      <td>(not set)</td>\n",
       "      <td>True</td>\n",
       "      <td>missing</td>\n",
       "      <td>(none)</td>\n",
       "      <td>missing</td>\n",
       "      <td>(direct)</td>\n",
       "      <td>[{'index': '4', 'value': 'North America'}]</td>\n",
       "    </tr>\n",
       "    <tr>\n",
       "      <th>3</th>\n",
       "      <td>Referral</td>\n",
       "      <td>2016-08-01</td>\n",
       "      <td>2016</td>\n",
       "      <td>8</td>\n",
       "      <td>1</td>\n",
       "      <td>201608</td>\n",
       "      <td>3213840074316400693</td>\n",
       "      <td>1470057237</td>\n",
       "      <td>2.0</td>\n",
       "      <td>1.470057e+09</td>\n",
       "      <td>Chrome</td>\n",
       "      <td>desktop</td>\n",
       "      <td>False</td>\n",
       "      <td>Macintosh</td>\n",
       "      <td>not available in demo dataset</td>\n",
       "      <td>Americas</td>\n",
       "      <td>United States</td>\n",
       "      <td>not available in demo dataset</td>\n",
       "      <td>(not set)</td>\n",
       "      <td>not available in demo dataset</td>\n",
       "      <td>Northern America</td>\n",
       "      <td>0.0</td>\n",
       "      <td>32.0</td>\n",
       "      <td>0.0</td>\n",
       "      <td>24.0</td>\n",
       "      <td>167400000.0</td>\n",
       "      <td>missing</td>\n",
       "      <td>(not set)</td>\n",
       "      <td>missing</td>\n",
       "      <td>missing</td>\n",
       "      <td>(none)</td>\n",
       "      <td>/</td>\n",
       "      <td>(direct)</td>\n",
       "      <td>[{'index': '4', 'value': 'North America'}]</td>\n",
       "    </tr>\n",
       "    <tr>\n",
       "      <th>4</th>\n",
       "      <td>Referral</td>\n",
       "      <td>2016-08-01</td>\n",
       "      <td>2016</td>\n",
       "      <td>8</td>\n",
       "      <td>1</td>\n",
       "      <td>201608</td>\n",
       "      <td>2987126973357946088</td>\n",
       "      <td>1470112710</td>\n",
       "      <td>1.0</td>\n",
       "      <td>1.470113e+09</td>\n",
       "      <td>Chrome</td>\n",
       "      <td>desktop</td>\n",
       "      <td>False</td>\n",
       "      <td>Macintosh</td>\n",
       "      <td>Mountain View</td>\n",
       "      <td>Americas</td>\n",
       "      <td>United States</td>\n",
       "      <td>San Francisco-Oakland-San Jose CA</td>\n",
       "      <td>comcast.net</td>\n",
       "      <td>California</td>\n",
       "      <td>Northern America</td>\n",
       "      <td>0.0</td>\n",
       "      <td>32.0</td>\n",
       "      <td>1.0</td>\n",
       "      <td>24.0</td>\n",
       "      <td>NaN</td>\n",
       "      <td>missing</td>\n",
       "      <td>(not set)</td>\n",
       "      <td>missing</td>\n",
       "      <td>missing</td>\n",
       "      <td>(none)</td>\n",
       "      <td>/</td>\n",
       "      <td>(direct)</td>\n",
       "      <td>[{'index': '4', 'value': 'North America'}]</td>\n",
       "    </tr>\n",
       "  </tbody>\n",
       "</table>\n",
       "</div>"
      ],
      "text/plain": [
       "  channelGrouping        date  year  month  day  yearmonth  \\\n",
       "0          Direct  2016-08-01  2016      8    1     201608   \n",
       "1        Referral  2016-08-01  2016      8    1     201608   \n",
       "2          Direct  2016-08-01  2016      8    1     201608   \n",
       "3        Referral  2016-08-01  2016      8    1     201608   \n",
       "4        Referral  2016-08-01  2016      8    1     201608   \n",
       "\n",
       "         fullVisitorId     visitId  visitNumber  visitStartTime  \\\n",
       "0  6849420071276447389  1470074045          1.0    1.470074e+09   \n",
       "1  1231590494443171080  1470067091          2.0    1.470067e+09   \n",
       "2  6751290259214798595  1470056945          1.0    1.470057e+09   \n",
       "3  3213840074316400693  1470057237          2.0    1.470057e+09   \n",
       "4  2987126973357946088  1470112710          1.0    1.470113e+09   \n",
       "\n",
       "  device.browser device.deviceCategory  device.isMobile  \\\n",
       "0         Safari               desktop            False   \n",
       "1         Chrome               desktop            False   \n",
       "2         Chrome               desktop            False   \n",
       "3         Chrome               desktop            False   \n",
       "4         Chrome               desktop            False   \n",
       "\n",
       "  device.operatingSystem                geoNetwork.city geoNetwork.continent  \\\n",
       "0              Macintosh                      Cambridge             Americas   \n",
       "1              Chrome OS                  Mountain View             Americas   \n",
       "2              Macintosh  not available in demo dataset             Americas   \n",
       "3              Macintosh  not available in demo dataset             Americas   \n",
       "4              Macintosh                  Mountain View             Americas   \n",
       "\n",
       "  geoNetwork.country                   geoNetwork.metro  \\\n",
       "0      United States            Boston MA-Manchester NH   \n",
       "1      United States  San Francisco-Oakland-San Jose CA   \n",
       "2      United States      not available in demo dataset   \n",
       "3      United States      not available in demo dataset   \n",
       "4      United States  San Francisco-Oakland-San Jose CA   \n",
       "\n",
       "  geoNetwork.networkDomain              geoNetwork.region  \\\n",
       "0          unknown.unknown                  Massachusetts   \n",
       "1                (not set)                     California   \n",
       "2                (not set)  not available in demo dataset   \n",
       "3                (not set)  not available in demo dataset   \n",
       "4              comcast.net                     California   \n",
       "\n",
       "  geoNetwork.subContinent  totals.bounces  totals.hits  totals.newVisits  \\\n",
       "0        Northern America             0.0         33.0               1.0   \n",
       "1        Northern America             0.0         31.0               0.0   \n",
       "2        Northern America             0.0         31.0               1.0   \n",
       "3        Northern America             0.0         32.0               0.0   \n",
       "4        Northern America             0.0         32.0               1.0   \n",
       "\n",
       "   totals.pageviews  totals.transactionRevenue trafficSource.adContent  \\\n",
       "0              13.0                        NaN                 missing   \n",
       "1              23.0                        NaN                 missing   \n",
       "2              21.0                        NaN                 missing   \n",
       "3              24.0                167400000.0                 missing   \n",
       "4              24.0                        NaN                 missing   \n",
       "\n",
       "  trafficSource.campaign trafficSource.isTrueDirect trafficSource.keyword  \\\n",
       "0              (not set)                       True               missing   \n",
       "1              (not set)                    missing               missing   \n",
       "2              (not set)                       True               missing   \n",
       "3              (not set)                    missing               missing   \n",
       "4              (not set)                    missing               missing   \n",
       "\n",
       "  trafficSource.medium trafficSource.referralPath trafficSource.source  \\\n",
       "0               (none)                    missing             (direct)   \n",
       "1               (none)                          /             (direct)   \n",
       "2               (none)                    missing             (direct)   \n",
       "3               (none)                          /             (direct)   \n",
       "4               (none)                          /             (direct)   \n",
       "\n",
       "                             customDimensions  \n",
       "0  [{'index': '4', 'value': 'North America'}]  \n",
       "1  [{'index': '4', 'value': 'North America'}]  \n",
       "2  [{'index': '4', 'value': 'North America'}]  \n",
       "3  [{'index': '4', 'value': 'North America'}]  \n",
       "4  [{'index': '4', 'value': 'North America'}]  "
      ]
     },
     "execution_count": 5,
     "metadata": {},
     "output_type": "execute_result"
    }
   ],
   "source": [
    "train_df.head()"
   ]
  },
  {
   "cell_type": "markdown",
   "metadata": {
    "_uuid": "43c5c3175b28975ff302d28ec9f8fee341d973d6"
   },
   "source": [
    "### The attribute data types"
   ]
  },
  {
   "cell_type": "code",
   "execution_count": 6,
   "metadata": {
    "_uuid": "3be818e601999092cc24e97804dba8a5896a1122"
   },
   "outputs": [
    {
     "name": "stdout",
     "output_type": "stream",
     "text": [
      "The data types in columns and missing data are:\n",
      "<class 'pandas.core.frame.DataFrame'>\n",
      "RangeIndex: 1708337 entries, 0 to 1708336\n",
      "Data columns (total 34 columns):\n",
      "channelGrouping               object\n",
      "date                          object\n",
      "year                          int64\n",
      "month                         int64\n",
      "day                           int64\n",
      "yearmonth                     int64\n",
      "fullVisitorId                 object\n",
      "visitId                       int64\n",
      "visitNumber                   float64\n",
      "visitStartTime                float64\n",
      "device.browser                object\n",
      "device.deviceCategory         object\n",
      "device.isMobile               bool\n",
      "device.operatingSystem        object\n",
      "geoNetwork.city               object\n",
      "geoNetwork.continent          object\n",
      "geoNetwork.country            object\n",
      "geoNetwork.metro              object\n",
      "geoNetwork.networkDomain      object\n",
      "geoNetwork.region             object\n",
      "geoNetwork.subContinent       object\n",
      "totals.bounces                float64\n",
      "totals.hits                   float64\n",
      "totals.newVisits              float64\n",
      "totals.pageviews              float64\n",
      "totals.transactionRevenue     float64\n",
      "trafficSource.adContent       object\n",
      "trafficSource.campaign        object\n",
      "trafficSource.isTrueDirect    object\n",
      "trafficSource.keyword         object\n",
      "trafficSource.medium          object\n",
      "trafficSource.referralPath    object\n",
      "trafficSource.source          object\n",
      "customDimensions              object\n",
      "dtypes: bool(1), float64(7), int64(5), object(21)\n",
      "memory usage: 431.7+ MB\n"
     ]
    }
   ],
   "source": [
    "print(\"The data types in columns and missing data are:\")\n",
    "train_df.info()"
   ]
  },
  {
   "cell_type": "markdown",
   "metadata": {
    "_uuid": "43ab2162ec9c99032f754de3bf3f749fec9602f2"
   },
   "source": [
    "### <a name=\"individual variable\"></a>Extract Descriptive Statistics of Each Column"
   ]
  },
  {
   "cell_type": "code",
   "execution_count": 7,
   "metadata": {
    "_uuid": "0db3cf16b1ad140a6dfbe70563ee57be93048af1",
    "scrolled": false
   },
   "outputs": [
    {
     "name": "stdout",
     "output_type": "stream",
     "text": [
      "Descriptive statistics of numerical columns:\n",
      "\n"
     ]
    },
    {
     "data": {
      "text/html": [
       "<div>\n",
       "<style scoped>\n",
       "    .dataframe tbody tr th:only-of-type {\n",
       "        vertical-align: middle;\n",
       "    }\n",
       "\n",
       "    .dataframe tbody tr th {\n",
       "        vertical-align: top;\n",
       "    }\n",
       "\n",
       "    .dataframe thead th {\n",
       "        text-align: right;\n",
       "    }\n",
       "</style>\n",
       "<table border=\"1\" class=\"dataframe\">\n",
       "  <thead>\n",
       "    <tr style=\"text-align: right;\">\n",
       "      <th></th>\n",
       "      <th>year</th>\n",
       "      <th>month</th>\n",
       "      <th>day</th>\n",
       "      <th>yearmonth</th>\n",
       "      <th>visitId</th>\n",
       "      <th>visitNumber</th>\n",
       "      <th>visitStartTime</th>\n",
       "      <th>totals.bounces</th>\n",
       "      <th>totals.hits</th>\n",
       "      <th>totals.newVisits</th>\n",
       "      <th>totals.pageviews</th>\n",
       "      <th>totals.transactionRevenue</th>\n",
       "    </tr>\n",
       "  </thead>\n",
       "  <tbody>\n",
       "    <tr>\n",
       "      <th>count</th>\n",
       "      <td>1.708337e+06</td>\n",
       "      <td>1.708337e+06</td>\n",
       "      <td>1.708337e+06</td>\n",
       "      <td>1.708337e+06</td>\n",
       "      <td>1.708337e+06</td>\n",
       "      <td>1.708337e+06</td>\n",
       "      <td>1.708337e+06</td>\n",
       "      <td>1.708337e+06</td>\n",
       "      <td>1.708337e+06</td>\n",
       "      <td>1.708337e+06</td>\n",
       "      <td>1.708337e+06</td>\n",
       "      <td>1.851400e+04</td>\n",
       "    </tr>\n",
       "    <tr>\n",
       "      <th>mean</th>\n",
       "      <td>2.016945e+03</td>\n",
       "      <td>6.924061e+00</td>\n",
       "      <td>3.734832e+00</td>\n",
       "      <td>2.017015e+05</td>\n",
       "      <td>1.498352e+09</td>\n",
       "      <td>2.335170e+00</td>\n",
       "      <td>1.498352e+09</td>\n",
       "      <td>5.101909e-01</td>\n",
       "      <td>4.429598e+00</td>\n",
       "      <td>7.653232e-01</td>\n",
       "      <td>3.695685e+00</td>\n",
       "      <td>1.251132e+08</td>\n",
       "    </tr>\n",
       "    <tr>\n",
       "      <th>std</th>\n",
       "      <td>6.732720e-01</td>\n",
       "      <td>3.713508e+00</td>\n",
       "      <td>1.928431e+00</td>\n",
       "      <td>6.485644e+01</td>\n",
       "      <td>1.624937e+07</td>\n",
       "      <td>9.354034e+00</td>\n",
       "      <td>1.624937e+07</td>\n",
       "      <td>4.998963e-01</td>\n",
       "      <td>8.991748e+00</td>\n",
       "      <td>4.237968e-01</td>\n",
       "      <td>6.472932e+00</td>\n",
       "      <td>4.162653e+08</td>\n",
       "    </tr>\n",
       "    <tr>\n",
       "      <th>min</th>\n",
       "      <td>2.016000e+03</td>\n",
       "      <td>1.000000e+00</td>\n",
       "      <td>1.000000e+00</td>\n",
       "      <td>2.016080e+05</td>\n",
       "      <td>1.470035e+09</td>\n",
       "      <td>1.000000e+00</td>\n",
       "      <td>1.470035e+09</td>\n",
       "      <td>0.000000e+00</td>\n",
       "      <td>1.000000e+00</td>\n",
       "      <td>0.000000e+00</td>\n",
       "      <td>0.000000e+00</td>\n",
       "      <td>1.000000e+04</td>\n",
       "    </tr>\n",
       "    <tr>\n",
       "      <th>25%</th>\n",
       "      <td>2.016000e+03</td>\n",
       "      <td>3.000000e+00</td>\n",
       "      <td>2.000000e+00</td>\n",
       "      <td>2.016120e+05</td>\n",
       "      <td>1.482738e+09</td>\n",
       "      <td>1.000000e+00</td>\n",
       "      <td>1.482738e+09</td>\n",
       "      <td>0.000000e+00</td>\n",
       "      <td>1.000000e+00</td>\n",
       "      <td>1.000000e+00</td>\n",
       "      <td>1.000000e+00</td>\n",
       "      <td>2.306750e+07</td>\n",
       "    </tr>\n",
       "    <tr>\n",
       "      <th>50%</th>\n",
       "      <td>2.017000e+03</td>\n",
       "      <td>8.000000e+00</td>\n",
       "      <td>4.000000e+00</td>\n",
       "      <td>2.017070e+05</td>\n",
       "      <td>1.499832e+09</td>\n",
       "      <td>1.000000e+00</td>\n",
       "      <td>1.499832e+09</td>\n",
       "      <td>1.000000e+00</td>\n",
       "      <td>1.000000e+00</td>\n",
       "      <td>1.000000e+00</td>\n",
       "      <td>1.000000e+00</td>\n",
       "      <td>4.606000e+07</td>\n",
       "    </tr>\n",
       "    <tr>\n",
       "      <th>75%</th>\n",
       "      <td>2.017000e+03</td>\n",
       "      <td>1.000000e+01</td>\n",
       "      <td>5.000000e+00</td>\n",
       "      <td>2.017120e+05</td>\n",
       "      <td>1.512513e+09</td>\n",
       "      <td>1.000000e+00</td>\n",
       "      <td>1.512513e+09</td>\n",
       "      <td>1.000000e+00</td>\n",
       "      <td>4.000000e+00</td>\n",
       "      <td>1.000000e+00</td>\n",
       "      <td>4.000000e+00</td>\n",
       "      <td>1.000000e+08</td>\n",
       "    </tr>\n",
       "    <tr>\n",
       "      <th>max</th>\n",
       "      <td>2.018000e+03</td>\n",
       "      <td>1.200000e+01</td>\n",
       "      <td>7.000000e+00</td>\n",
       "      <td>2.018040e+05</td>\n",
       "      <td>1.525158e+09</td>\n",
       "      <td>4.570000e+02</td>\n",
       "      <td>1.525158e+09</td>\n",
       "      <td>1.000000e+00</td>\n",
       "      <td>5.000000e+02</td>\n",
       "      <td>1.000000e+00</td>\n",
       "      <td>5.000000e+02</td>\n",
       "      <td>2.312950e+10</td>\n",
       "    </tr>\n",
       "  </tbody>\n",
       "</table>\n",
       "</div>"
      ],
      "text/plain": [
       "               year         month           day     yearmonth       visitId  \\\n",
       "count  1.708337e+06  1.708337e+06  1.708337e+06  1.708337e+06  1.708337e+06   \n",
       "mean   2.016945e+03  6.924061e+00  3.734832e+00  2.017015e+05  1.498352e+09   \n",
       "std    6.732720e-01  3.713508e+00  1.928431e+00  6.485644e+01  1.624937e+07   \n",
       "min    2.016000e+03  1.000000e+00  1.000000e+00  2.016080e+05  1.470035e+09   \n",
       "25%    2.016000e+03  3.000000e+00  2.000000e+00  2.016120e+05  1.482738e+09   \n",
       "50%    2.017000e+03  8.000000e+00  4.000000e+00  2.017070e+05  1.499832e+09   \n",
       "75%    2.017000e+03  1.000000e+01  5.000000e+00  2.017120e+05  1.512513e+09   \n",
       "max    2.018000e+03  1.200000e+01  7.000000e+00  2.018040e+05  1.525158e+09   \n",
       "\n",
       "        visitNumber  visitStartTime  totals.bounces   totals.hits  \\\n",
       "count  1.708337e+06    1.708337e+06    1.708337e+06  1.708337e+06   \n",
       "mean   2.335170e+00    1.498352e+09    5.101909e-01  4.429598e+00   \n",
       "std    9.354034e+00    1.624937e+07    4.998963e-01  8.991748e+00   \n",
       "min    1.000000e+00    1.470035e+09    0.000000e+00  1.000000e+00   \n",
       "25%    1.000000e+00    1.482738e+09    0.000000e+00  1.000000e+00   \n",
       "50%    1.000000e+00    1.499832e+09    1.000000e+00  1.000000e+00   \n",
       "75%    1.000000e+00    1.512513e+09    1.000000e+00  4.000000e+00   \n",
       "max    4.570000e+02    1.525158e+09    1.000000e+00  5.000000e+02   \n",
       "\n",
       "       totals.newVisits  totals.pageviews  totals.transactionRevenue  \n",
       "count      1.708337e+06      1.708337e+06               1.851400e+04  \n",
       "mean       7.653232e-01      3.695685e+00               1.251132e+08  \n",
       "std        4.237968e-01      6.472932e+00               4.162653e+08  \n",
       "min        0.000000e+00      0.000000e+00               1.000000e+04  \n",
       "25%        1.000000e+00      1.000000e+00               2.306750e+07  \n",
       "50%        1.000000e+00      1.000000e+00               4.606000e+07  \n",
       "75%        1.000000e+00      4.000000e+00               1.000000e+08  \n",
       "max        1.000000e+00      5.000000e+02               2.312950e+10  "
      ]
     },
     "execution_count": 7,
     "metadata": {},
     "output_type": "execute_result"
    }
   ],
   "source": [
    "print(\"Descriptive statistics of numerical columns:\\n\")\n",
    "train_df.describe()"
   ]
  },
  {
   "cell_type": "code",
   "execution_count": 8,
   "metadata": {
    "_uuid": "435559c85a2977b766b75447998848a26d36a72f"
   },
   "outputs": [
    {
     "name": "stdout",
     "output_type": "stream",
     "text": [
      "Descriptive statistics of categorical columns\n"
     ]
    }
   ],
   "source": [
    "print(\"Descriptive statistics of categorical columns\")\n"
   ]
  },
  {
   "cell_type": "code",
   "execution_count": 9,
   "metadata": {
    "_uuid": "dfa5cb1acb522a439c3743e75d0bd124e5a26f0c"
   },
   "outputs": [],
   "source": [
    "def missing_data(data):\n",
    "    total = data.isnull().sum().sort_values(ascending = False)\n",
    "    percent = (data.isnull().sum()/data.isnull().count()*100).sort_values(ascending = False)\n",
    "    return pd.concat([total, percent], axis=1, keys=['Total', 'Percent'])"
   ]
  },
  {
   "cell_type": "code",
   "execution_count": 10,
   "metadata": {
    "_uuid": "d6e776bf4c6cdc0f88f73bf4d6181e367cb374ee"
   },
   "outputs": [
    {
     "name": "stdout",
     "output_type": "stream",
     "text": [
      "Missing data:\n",
      "\n"
     ]
    },
    {
     "data": {
      "text/html": [
       "<div>\n",
       "<style scoped>\n",
       "    .dataframe tbody tr th:only-of-type {\n",
       "        vertical-align: middle;\n",
       "    }\n",
       "\n",
       "    .dataframe tbody tr th {\n",
       "        vertical-align: top;\n",
       "    }\n",
       "\n",
       "    .dataframe thead th {\n",
       "        text-align: right;\n",
       "    }\n",
       "</style>\n",
       "<table border=\"1\" class=\"dataframe\">\n",
       "  <thead>\n",
       "    <tr style=\"text-align: right;\">\n",
       "      <th></th>\n",
       "      <th>Total</th>\n",
       "      <th>Percent</th>\n",
       "    </tr>\n",
       "  </thead>\n",
       "  <tbody>\n",
       "    <tr>\n",
       "      <th>totals.transactionRevenue</th>\n",
       "      <td>1689823</td>\n",
       "      <td>98.916256</td>\n",
       "    </tr>\n",
       "    <tr>\n",
       "      <th>visitId</th>\n",
       "      <td>0</td>\n",
       "      <td>0.000000</td>\n",
       "    </tr>\n",
       "    <tr>\n",
       "      <th>device.operatingSystem</th>\n",
       "      <td>0</td>\n",
       "      <td>0.000000</td>\n",
       "    </tr>\n",
       "    <tr>\n",
       "      <th>device.isMobile</th>\n",
       "      <td>0</td>\n",
       "      <td>0.000000</td>\n",
       "    </tr>\n",
       "    <tr>\n",
       "      <th>device.deviceCategory</th>\n",
       "      <td>0</td>\n",
       "      <td>0.000000</td>\n",
       "    </tr>\n",
       "    <tr>\n",
       "      <th>device.browser</th>\n",
       "      <td>0</td>\n",
       "      <td>0.000000</td>\n",
       "    </tr>\n",
       "    <tr>\n",
       "      <th>visitStartTime</th>\n",
       "      <td>0</td>\n",
       "      <td>0.000000</td>\n",
       "    </tr>\n",
       "    <tr>\n",
       "      <th>visitNumber</th>\n",
       "      <td>0</td>\n",
       "      <td>0.000000</td>\n",
       "    </tr>\n",
       "    <tr>\n",
       "      <th>customDimensions</th>\n",
       "      <td>0</td>\n",
       "      <td>0.000000</td>\n",
       "    </tr>\n",
       "    <tr>\n",
       "      <th>geoNetwork.continent</th>\n",
       "      <td>0</td>\n",
       "      <td>0.000000</td>\n",
       "    </tr>\n",
       "    <tr>\n",
       "      <th>fullVisitorId</th>\n",
       "      <td>0</td>\n",
       "      <td>0.000000</td>\n",
       "    </tr>\n",
       "    <tr>\n",
       "      <th>yearmonth</th>\n",
       "      <td>0</td>\n",
       "      <td>0.000000</td>\n",
       "    </tr>\n",
       "    <tr>\n",
       "      <th>day</th>\n",
       "      <td>0</td>\n",
       "      <td>0.000000</td>\n",
       "    </tr>\n",
       "    <tr>\n",
       "      <th>month</th>\n",
       "      <td>0</td>\n",
       "      <td>0.000000</td>\n",
       "    </tr>\n",
       "    <tr>\n",
       "      <th>year</th>\n",
       "      <td>0</td>\n",
       "      <td>0.000000</td>\n",
       "    </tr>\n",
       "    <tr>\n",
       "      <th>date</th>\n",
       "      <td>0</td>\n",
       "      <td>0.000000</td>\n",
       "    </tr>\n",
       "    <tr>\n",
       "      <th>geoNetwork.city</th>\n",
       "      <td>0</td>\n",
       "      <td>0.000000</td>\n",
       "    </tr>\n",
       "    <tr>\n",
       "      <th>geoNetwork.country</th>\n",
       "      <td>0</td>\n",
       "      <td>0.000000</td>\n",
       "    </tr>\n",
       "    <tr>\n",
       "      <th>trafficSource.source</th>\n",
       "      <td>0</td>\n",
       "      <td>0.000000</td>\n",
       "    </tr>\n",
       "    <tr>\n",
       "      <th>geoNetwork.metro</th>\n",
       "      <td>0</td>\n",
       "      <td>0.000000</td>\n",
       "    </tr>\n",
       "    <tr>\n",
       "      <th>geoNetwork.networkDomain</th>\n",
       "      <td>0</td>\n",
       "      <td>0.000000</td>\n",
       "    </tr>\n",
       "    <tr>\n",
       "      <th>geoNetwork.region</th>\n",
       "      <td>0</td>\n",
       "      <td>0.000000</td>\n",
       "    </tr>\n",
       "    <tr>\n",
       "      <th>geoNetwork.subContinent</th>\n",
       "      <td>0</td>\n",
       "      <td>0.000000</td>\n",
       "    </tr>\n",
       "    <tr>\n",
       "      <th>totals.bounces</th>\n",
       "      <td>0</td>\n",
       "      <td>0.000000</td>\n",
       "    </tr>\n",
       "    <tr>\n",
       "      <th>totals.hits</th>\n",
       "      <td>0</td>\n",
       "      <td>0.000000</td>\n",
       "    </tr>\n",
       "    <tr>\n",
       "      <th>totals.newVisits</th>\n",
       "      <td>0</td>\n",
       "      <td>0.000000</td>\n",
       "    </tr>\n",
       "    <tr>\n",
       "      <th>totals.pageviews</th>\n",
       "      <td>0</td>\n",
       "      <td>0.000000</td>\n",
       "    </tr>\n",
       "    <tr>\n",
       "      <th>trafficSource.adContent</th>\n",
       "      <td>0</td>\n",
       "      <td>0.000000</td>\n",
       "    </tr>\n",
       "    <tr>\n",
       "      <th>trafficSource.campaign</th>\n",
       "      <td>0</td>\n",
       "      <td>0.000000</td>\n",
       "    </tr>\n",
       "    <tr>\n",
       "      <th>trafficSource.isTrueDirect</th>\n",
       "      <td>0</td>\n",
       "      <td>0.000000</td>\n",
       "    </tr>\n",
       "    <tr>\n",
       "      <th>trafficSource.keyword</th>\n",
       "      <td>0</td>\n",
       "      <td>0.000000</td>\n",
       "    </tr>\n",
       "    <tr>\n",
       "      <th>trafficSource.medium</th>\n",
       "      <td>0</td>\n",
       "      <td>0.000000</td>\n",
       "    </tr>\n",
       "    <tr>\n",
       "      <th>trafficSource.referralPath</th>\n",
       "      <td>0</td>\n",
       "      <td>0.000000</td>\n",
       "    </tr>\n",
       "    <tr>\n",
       "      <th>channelGrouping</th>\n",
       "      <td>0</td>\n",
       "      <td>0.000000</td>\n",
       "    </tr>\n",
       "  </tbody>\n",
       "</table>\n",
       "</div>"
      ],
      "text/plain": [
       "                              Total    Percent\n",
       "totals.transactionRevenue   1689823  98.916256\n",
       "visitId                           0   0.000000\n",
       "device.operatingSystem            0   0.000000\n",
       "device.isMobile                   0   0.000000\n",
       "device.deviceCategory             0   0.000000\n",
       "device.browser                    0   0.000000\n",
       "visitStartTime                    0   0.000000\n",
       "visitNumber                       0   0.000000\n",
       "customDimensions                  0   0.000000\n",
       "geoNetwork.continent              0   0.000000\n",
       "fullVisitorId                     0   0.000000\n",
       "yearmonth                         0   0.000000\n",
       "day                               0   0.000000\n",
       "month                             0   0.000000\n",
       "year                              0   0.000000\n",
       "date                              0   0.000000\n",
       "geoNetwork.city                   0   0.000000\n",
       "geoNetwork.country                0   0.000000\n",
       "trafficSource.source              0   0.000000\n",
       "geoNetwork.metro                  0   0.000000\n",
       "geoNetwork.networkDomain          0   0.000000\n",
       "geoNetwork.region                 0   0.000000\n",
       "geoNetwork.subContinent           0   0.000000\n",
       "totals.bounces                    0   0.000000\n",
       "totals.hits                       0   0.000000\n",
       "totals.newVisits                  0   0.000000\n",
       "totals.pageviews                  0   0.000000\n",
       "trafficSource.adContent           0   0.000000\n",
       "trafficSource.campaign            0   0.000000\n",
       "trafficSource.isTrueDirect        0   0.000000\n",
       "trafficSource.keyword             0   0.000000\n",
       "trafficSource.medium              0   0.000000\n",
       "trafficSource.referralPath        0   0.000000\n",
       "channelGrouping                   0   0.000000"
      ]
     },
     "execution_count": 10,
     "metadata": {},
     "output_type": "execute_result"
    }
   ],
   "source": [
    "print(\"Missing data:\\n\")\n",
    "missing_data(train_df)"
   ]
  },
  {
   "cell_type": "markdown",
   "metadata": {
    "_uuid": "179dd2159e433d366fbfe39f4cfec2e250cb8102"
   },
   "source": [
    "## <a name=\"individual variables\"></a>Explore Individual Variables"
   ]
  },
  {
   "cell_type": "code",
   "execution_count": 11,
   "metadata": {
    "_uuid": "fb4fd7e271764d2a130e65c614aaea92ce5d64e2"
   },
   "outputs": [
    {
     "data": {
      "text/plain": [
       "channelGrouping                     8\n",
       "date                              638\n",
       "year                                3\n",
       "month                              12\n",
       "day                                 7\n",
       "yearmonth                          21\n",
       "fullVisitorId                 1323730\n",
       "visitId                       1665802\n",
       "visitNumber                       457\n",
       "visitStartTime                1667423\n",
       "device.browser                    129\n",
       "device.deviceCategory               3\n",
       "device.isMobile                     2\n",
       "device.operatingSystem             24\n",
       "geoNetwork.city                   956\n",
       "geoNetwork.continent                6\n",
       "geoNetwork.country                228\n",
       "geoNetwork.metro                  123\n",
       "geoNetwork.networkDomain        41982\n",
       "geoNetwork.region                 483\n",
       "geoNetwork.subContinent            23\n",
       "totals.bounces                      2\n",
       "totals.hits                       297\n",
       "totals.newVisits                    2\n",
       "totals.pageviews                  231\n",
       "totals.transactionRevenue        7251\n",
       "trafficSource.adContent            77\n",
       "trafficSource.campaign             33\n",
       "trafficSource.isTrueDirect          2\n",
       "trafficSource.keyword            4547\n",
       "trafficSource.medium                7\n",
       "trafficSource.referralPath       3197\n",
       "trafficSource.source              345\n",
       "customDimensions                    6\n",
       "dtype: int64"
      ]
     },
     "execution_count": 11,
     "metadata": {},
     "output_type": "execute_result"
    }
   ],
   "source": [
    "train_df.nunique()"
   ]
  },
  {
   "cell_type": "markdown",
   "metadata": {
    "_uuid": "7563cf51efe90e6703eb5f50c71eea486157f24e"
   },
   "source": [
    "### Explore the target variable"
   ]
  },
  {
   "cell_type": "code",
   "execution_count": 12,
   "metadata": {
    "_uuid": "ee5b0784e983585f1c7793ffe7e152620c889d25"
   },
   "outputs": [
    {
     "data": {
      "image/png": "[encoded data removed]",
      "text/plain": [
       "<Figure size 576x432 with 1 Axes>"
      ]
     },
     "metadata": {
      "needs_background": "light"
     },
     "output_type": "display_data"
    }
   ],
   "source": [
    "train_df[\"totals.transactionRevenue\"] = train_df[\"totals.transactionRevenue\"].astype('float')\n",
    "temp = train_df.groupby(\"fullVisitorId\")[\"totals.transactionRevenue\"].sum().reset_index()\n",
    "\n",
    "plt.figure(figsize=(8,6))\n",
    "plt.scatter(range(temp.shape[0]), np.sort(np.log1p(temp[\"totals.transactionRevenue\"].values)))\n",
    "plt.xlabel('index', fontsize=12)\n",
    "plt.ylabel('TransactionRevenue', fontsize=12)\n",
    "plt.show()"
   ]
  },
  {
   "cell_type": "code",
   "execution_count": 13,
   "metadata": {
    "_uuid": "cf8a5edb75c3cbd7f6ffb3a71fbd914109ff5cb4"
   },
   "outputs": [
    {
     "name": "stdout",
     "output_type": "stream",
     "text": [
      "Number of instances in train set with non-zero revenue :  18514 | Ratio :  0.010837440153786987\n",
      "Number of unique customers with non-zero revenue :  16141 | Ratio:  0.012193574218307359\n"
     ]
    }
   ],
   "source": [
    "nonzero_tR = pd.notnull(train_df[\"totals.transactionRevenue\"]).sum()\n",
    "u_nonzero_tR = (temp[\"totals.transactionRevenue\"]>0).sum()\n",
    "print(\"Number of instances in train set with non-zero revenue : \", nonzero_tR, \"| Ratio : \", nonzero_tR / train_df.shape[0])\n",
    "print(\"Number of unique customers with non-zero revenue : \", u_nonzero_tR, \"| Ratio: \", u_nonzero_tR / temp.shape[0])"
   ]
  },
  {
   "cell_type": "code",
   "execution_count": 14,
   "metadata": {
    "_uuid": "55ced29f2284a4e05b19179cbd751919e3f44b0d"
   },
   "outputs": [
    {
     "name": "stdout",
     "output_type": "stream",
     "text": [
      "Number of unique visitors in train set :  1323730  out of  1708337 rows.\n",
      "Number of common visitors in train and test set :  2759\n"
     ]
    }
   ],
   "source": [
    "print(\"Number of unique visitors in train set : \",train_df.fullVisitorId.nunique(), \" out of \",train_df.shape[0], 'rows.')\n",
    "#print(\"Number of unique visitors in train set : \",test_df.fullVisitorId.nunique(), \" out of \",test_df.shape[0], 'rows.')\n",
    "print(\"Number of common visitors in train and test set : \",len(set(train_df.fullVisitorId.unique()).intersection(set(test_df.fullVisitorId.unique())) ))"
   ]
  },
  {
   "cell_type": "code",
   "execution_count": 15,
   "metadata": {},
   "outputs": [
    {
     "name": "stdout",
     "output_type": "stream",
     "text": [
      "The ratio of customers with transaction revenue is 0.010837440153786987\n"
     ]
    }
   ],
   "source": [
    "y = np.nan_to_num(np.array([float(i) for i in train_df['totals.transactionRevenue']]))\n",
    "print('The ratio of customers with transaction revenue is', str((y != 0).mean()))"
   ]
  },
  {
   "cell_type": "code",
   "execution_count": 16,
   "metadata": {},
   "outputs": [
    {
     "data": {
      "image/png": "[encoded data removed]",
      "text/plain": [
       "<Figure size 864x432 with 1 Axes>"
      ]
     },
     "metadata": {
      "needs_background": "light"
     },
     "output_type": "display_data"
    }
   ],
   "source": [
    "plt.figure(figsize=[12, 6])\n",
    "sns.distplot(y[y!=0])\n",
    "plt.xlabel('transactionRevenue')\n",
    "plt.show()"
   ]
  },
  {
   "cell_type": "code",
   "execution_count": 17,
   "metadata": {},
   "outputs": [],
   "source": [
    "# target variable distribution\n",
    "# nat.log of sum for total transaction revenue per user\n",
    "target_var = np.log1p(train_df.groupby(\"fullVisitorId\")[\"totals.transactionRevenue\"].sum())"
   ]
  },
  {
   "cell_type": "code",
   "execution_count": 18,
   "metadata": {
    "scrolled": false
   },
   "outputs": [
    {
     "data": {
      "image/png": "[encoded data removed]",
      "text/plain": [
       "<Figure size 1080x504 with 1 Axes>"
      ]
     },
     "metadata": {
      "needs_background": "light"
     },
     "output_type": "display_data"
    }
   ],
   "source": [
    "plt.subplots(figsize=(15,7))\n",
    "sns.distplot(target_var[target_var != 0], label='Target').legend()\n",
    "plt.xlabel('Target Variable')\n",
    "plt.ylabel('Normalized Distribution')\n",
    "plt.show()"
   ]
  },
  {
   "cell_type": "markdown",
   "metadata": {},
   "source": [
    "## Categorical Data Exploration"
   ]
  },
  {
   "cell_type": "code",
   "execution_count": 19,
   "metadata": {},
   "outputs": [
    {
     "data": {
      "text/plain": [
       "['channelGrouping',\n",
       " 'date',\n",
       " 'fullVisitorId',\n",
       " 'device.browser',\n",
       " 'device.deviceCategory',\n",
       " 'device.operatingSystem',\n",
       " 'geoNetwork.city',\n",
       " 'geoNetwork.continent',\n",
       " 'geoNetwork.country',\n",
       " 'geoNetwork.metro',\n",
       " 'geoNetwork.networkDomain',\n",
       " 'geoNetwork.region',\n",
       " 'geoNetwork.subContinent',\n",
       " 'trafficSource.adContent',\n",
       " 'trafficSource.campaign',\n",
       " 'trafficSource.isTrueDirect',\n",
       " 'trafficSource.keyword',\n",
       " 'trafficSource.medium',\n",
       " 'trafficSource.referralPath',\n",
       " 'trafficSource.source',\n",
       " 'customDimensions']"
      ]
     },
     "execution_count": 19,
     "metadata": {},
     "output_type": "execute_result"
    }
   ],
   "source": [
    "# Explore Categorical Data\n",
    "\n",
    "train_df.select_dtypes(include='object').columns.tolist()"
   ]
  },
  {
   "cell_type": "code",
   "execution_count": 20,
   "metadata": {},
   "outputs": [],
   "source": [
    "# Define a function to plot the count of categorical variables (in ratio)\n",
    "# Credit: https://www.kaggle.com/sz8416/lb-1-4439-gacr-prediction-eda-lgb-baseline\n",
    "\n",
    "def plot_categorical(data, col, size=[15, 5], xlabel_angle=0, title='', max_cat = None):\n",
    "    '''use this for ploting the count of categorical features'''\n",
    "    plotdata = data[col].value_counts() / len(data)\n",
    "    if max_cat != None:   # if there is maximum number of variables (coz too many variables)\n",
    "        plotdata = plotdata[max_cat[0]:max_cat[1]]\n",
    "    plt.figure(figsize = size)\n",
    "    ax = sns.barplot(x = plotdata.index, y=plotdata.values)\n",
    "    plt.title(title, fontsize=15)\n",
    "    if xlabel_angle!=0: \n",
    "        plt.xticks(rotation=xlabel_angle)\n",
    "    ax.set_xticklabels(data[col].value_counts().index.tolist(), fontsize=11)\n",
    "    plt.ylabel('Ratio', fontsize=15)\n",
    "    plt.show()"
   ]
  },
  {
   "cell_type": "code",
   "execution_count": 21,
   "metadata": {},
   "outputs": [
    {
     "data": {
      "image/png": "[encoded data removed]",
      "text/plain": [
       "<Figure size 1080x360 with 1 Axes>"
      ]
     },
     "metadata": {
      "needs_background": "light"
     },
     "output_type": "display_data"
    }
   ],
   "source": [
    "plot_categorical(data=train_df, col='channelGrouping', xlabel_angle=0, title='Channel Grouping', max_cat=[0, 10])"
   ]
  },
  {
   "cell_type": "code",
   "execution_count": 22,
   "metadata": {},
   "outputs": [
    {
     "data": {
      "image/png": "[encoded data removed]",
      "text/plain": [
       "<Figure size 1080x360 with 1 Axes>"
      ]
     },
     "metadata": {
      "needs_background": "light"
     },
     "output_type": "display_data"
    }
   ],
   "source": [
    "plot_categorical(data=train_df, col='device.deviceCategory', xlabel_angle=0, title='Device - Category', max_cat=[0, 10])"
   ]
  },
  {
   "cell_type": "code",
   "execution_count": 23,
   "metadata": {},
   "outputs": [
    {
     "data": {
      "image/png": "[encoded data removed]",
      "text/plain": [
       "<Figure size 1080x360 with 1 Axes>"
      ]
     },
     "metadata": {
      "needs_background": "light"
     },
     "output_type": "display_data"
    }
   ],
   "source": [
    "plot_categorical(data=train_df, col='device.browser', xlabel_angle=0, title='Device - Browser', max_cat=[0, 10])"
   ]
  },
  {
   "cell_type": "code",
   "execution_count": 24,
   "metadata": {},
   "outputs": [
    {
     "data": {
      "image/png": "[encoded data removed]",
      "text/plain": [
       "<Figure size 1080x360 with 1 Axes>"
      ]
     },
     "metadata": {
      "needs_background": "light"
     },
     "output_type": "display_data"
    }
   ],
   "source": [
    "plot_categorical(data=train_df, col='device.isMobile', xlabel_angle=0, title='Mobile Device', max_cat=[0, 10])"
   ]
  },
  {
   "cell_type": "code",
   "execution_count": 25,
   "metadata": {},
   "outputs": [
    {
     "data": {
      "image/png": "[encoded data removed]",
      "text/plain": [
       "<Figure size 1080x360 with 1 Axes>"
      ]
     },
     "metadata": {
      "needs_background": "light"
     },
     "output_type": "display_data"
    }
   ],
   "source": [
    "plot_categorical(data=train_df, col='geoNetwork.city', xlabel_angle=0, title='City', max_cat=[0, 10])"
   ]
  },
  {
   "cell_type": "code",
   "execution_count": 26,
   "metadata": {},
   "outputs": [
    {
     "data": {
      "image/png": "[encoded data removed]",
      "text/plain": [
       "<Figure size 1080x360 with 1 Axes>"
      ]
     },
     "metadata": {
      "needs_background": "light"
     },
     "output_type": "display_data"
    }
   ],
   "source": [
    "plot_categorical(data=train_df, col='geoNetwork.continent', xlabel_angle=0, title='Continent', max_cat=[0, 10])"
   ]
  },
  {
   "cell_type": "code",
   "execution_count": 27,
   "metadata": {},
   "outputs": [
    {
     "data": {
      "image/png": "[encoded data removed]",
      "text/plain": [
       "<Figure size 1080x360 with 1 Axes>"
      ]
     },
     "metadata": {
      "needs_background": "light"
     },
     "output_type": "display_data"
    }
   ],
   "source": [
    "plot_categorical(data=train_df, col='geoNetwork.country', xlabel_angle=0, title='Country', max_cat=[0, 10])"
   ]
  },
  {
   "cell_type": "code",
   "execution_count": 28,
   "metadata": {},
   "outputs": [
    {
     "data": {
      "image/png": "[encoded data removed]",
      "text/plain": [
       "<Figure size 1080x360 with 1 Axes>"
      ]
     },
     "metadata": {
      "needs_background": "light"
     },
     "output_type": "display_data"
    }
   ],
   "source": [
    "plot_categorical(data=train_df, col='geoNetwork.metro', xlabel_angle=0, title='Metro', max_cat=[0, 10])"
   ]
  },
  {
   "cell_type": "code",
   "execution_count": 29,
   "metadata": {},
   "outputs": [
    {
     "data": {
      "image/png": "[encoded data removed]",
      "text/plain": [
       "<Figure size 1080x360 with 1 Axes>"
      ]
     },
     "metadata": {
      "needs_background": "light"
     },
     "output_type": "display_data"
    }
   ],
   "source": [
    "plot_categorical(data=train_df, col='geoNetwork.networkDomain', xlabel_angle=0, title='Network Domain', max_cat=[0, 10])"
   ]
  },
  {
   "cell_type": "code",
   "execution_count": 30,
   "metadata": {},
   "outputs": [
    {
     "data": {
      "image/png": "[encoded data removed]",
      "text/plain": [
       "<Figure size 1080x360 with 1 Axes>"
      ]
     },
     "metadata": {
      "needs_background": "light"
     },
     "output_type": "display_data"
    }
   ],
   "source": [
    "plot_categorical(data=train_df, col='geoNetwork.region', xlabel_angle=0, title='Region', max_cat=[0, 10])"
   ]
  },
  {
   "cell_type": "code",
   "execution_count": 31,
   "metadata": {},
   "outputs": [
    {
     "data": {
      "image/png": "[encoded data removed]",
      "text/plain": [
       "<Figure size 1080x360 with 1 Axes>"
      ]
     },
     "metadata": {
      "needs_background": "light"
     },
     "output_type": "display_data"
    }
   ],
   "source": [
    "plot_categorical(data=train_df, col='geoNetwork.subContinent', xlabel_angle=0, title='SubContinent', max_cat=[0, 10])"
   ]
  },
  {
   "cell_type": "code",
   "execution_count": 32,
   "metadata": {},
   "outputs": [
    {
     "data": {
      "image/png": "[encoded data removed]",
      "text/plain": [
       "<Figure size 1080x360 with 1 Axes>"
      ]
     },
     "metadata": {
      "needs_background": "light"
     },
     "output_type": "display_data"
    }
   ],
   "source": [
    "plot_categorical(data=train_df, col='trafficSource.source', xlabel_angle=0, title='Source', max_cat=[0, 10])"
   ]
  },
  {
   "cell_type": "code",
   "execution_count": 33,
   "metadata": {},
   "outputs": [
    {
     "data": {
      "image/png": "[encoded data removed]",
      "text/plain": [
       "<Figure size 1080x360 with 1 Axes>"
      ]
     },
     "metadata": {
      "needs_background": "light"
     },
     "output_type": "display_data"
    }
   ],
   "source": [
    "plot_categorical(data=train_df, col='trafficSource.referralPath', xlabel_angle=0, title='ReferralPath', max_cat=[0, 10])"
   ]
  },
  {
   "cell_type": "code",
   "execution_count": 34,
   "metadata": {},
   "outputs": [
    {
     "data": {
      "image/png": "[encoded data removed]",
      "text/plain": [
       "<Figure size 1080x360 with 1 Axes>"
      ]
     },
     "metadata": {
      "needs_background": "light"
     },
     "output_type": "display_data"
    }
   ],
   "source": [
    "plot_categorical(data=train_df, col='trafficSource.medium', xlabel_angle=0, title='Medium', max_cat=[0, 10])"
   ]
  },
  {
   "cell_type": "markdown",
   "metadata": {},
   "source": [
    "## Numerical Value Exploration"
   ]
  },
  {
   "cell_type": "code",
   "execution_count": 39,
   "metadata": {},
   "outputs": [
    {
     "data": {
      "text/plain": [
       "['year',\n",
       " 'month',\n",
       " 'day',\n",
       " 'yearmonth',\n",
       " 'visitId',\n",
       " 'visitNumber',\n",
       " 'visitStartTime',\n",
       " 'totals.bounces',\n",
       " 'totals.hits',\n",
       " 'totals.newVisits',\n",
       " 'totals.pageviews',\n",
       " 'totals.transactionRevenue']"
      ]
     },
     "execution_count": 39,
     "metadata": {},
     "output_type": "execute_result"
    }
   ],
   "source": [
    "# Numerical Value Exploration\n",
    "\n",
    "#device.isMobile already plotted before\n",
    "\n",
    "train_df.select_dtypes(include=['float64', 'int32', 'int64']).columns.tolist()"
   ]
  },
  {
   "cell_type": "markdown",
   "metadata": {},
   "source": [
    "### Totals"
   ]
  },
  {
   "cell_type": "code",
   "execution_count": 40,
   "metadata": {},
   "outputs": [
    {
     "data": {
      "text/plain": [
       "1.0    871578\n",
       "0.0    836759\n",
       "Name: totals.bounces, dtype: int64"
      ]
     },
     "execution_count": 40,
     "metadata": {},
     "output_type": "execute_result"
    }
   ],
   "source": [
    "train_df['totals.bounces'].value_counts()"
   ]
  },
  {
   "cell_type": "code",
   "execution_count": 41,
   "metadata": {},
   "outputs": [
    {
     "data": {
      "image/png": "[encoded data removed]",
      "text/plain": [
       "<Figure size 576x288 with 1 Axes>"
      ]
     },
     "metadata": {
      "needs_background": "light"
     },
     "output_type": "display_data"
    }
   ],
   "source": [
    "plot_categorical(data=train_df, col='totals.bounces', size=[8 ,4], xlabel_angle=0, title='Totals - Bounces')"
   ]
  },
  {
   "cell_type": "code",
   "execution_count": 42,
   "metadata": {},
   "outputs": [
    {
     "data": {
      "image/png": "[encoded data removed]",
      "text/plain": [
       "<Figure size 576x288 with 1 Axes>"
      ]
     },
     "metadata": {
      "needs_background": "light"
     },
     "output_type": "display_data"
    }
   ],
   "source": [
    "plot_categorical(data=train_df, col='totals.newVisits', size=[8 ,4], xlabel_angle=0, title='Totals - New Visits')"
   ]
  },
  {
   "cell_type": "code",
   "execution_count": 43,
   "metadata": {},
   "outputs": [
    {
     "data": {
      "image/png": "[encoded data removed]",
      "text/plain": [
       "<Figure size 864x432 with 1 Axes>"
      ]
     },
     "metadata": {
      "needs_background": "light"
     },
     "output_type": "display_data"
    }
   ],
   "source": [
    "plt.figure(figsize=[12, 6])\n",
    "sns.distplot(train_df['totals.hits'][train_df['totals.hits'] < 100])\n",
    "plt.xlabel('totals.hits', fontsize=15)\n",
    "plt.ylabel('Distribution', fontsize=15)\n",
    "plt.title('Total - Hits', fontsize=15)\n",
    "plt.show()"
   ]
  },
  {
   "cell_type": "code",
   "execution_count": 44,
   "metadata": {},
   "outputs": [
    {
     "data": {
      "image/png": "[encoded data removed]",
      "text/plain": [
       "<Figure size 864x432 with 1 Axes>"
      ]
     },
     "metadata": {
      "needs_background": "light"
     },
     "output_type": "display_data"
    }
   ],
   "source": [
    "plt.figure(figsize=[12, 6])\n",
    "sns.distplot(train_df['totals.pageviews'])\n",
    "plt.xlabel('totals.pageviews', fontsize=15)\n",
    "plt.ylabel('Distribution', fontsize=15)\n",
    "plt.title('Total - Page Views', fontsize=15)\n",
    "plt.show()"
   ]
  },
  {
   "cell_type": "markdown",
   "metadata": {},
   "source": [
    "## Date Exploration"
   ]
  },
  {
   "cell_type": "code",
   "execution_count": 45,
   "metadata": {},
   "outputs": [
    {
     "data": {
      "text/html": [
       "<div>\n",
       "<style scoped>\n",
       "    .dataframe tbody tr th:only-of-type {\n",
       "        vertical-align: middle;\n",
       "    }\n",
       "\n",
       "    .dataframe tbody tr th {\n",
       "        vertical-align: top;\n",
       "    }\n",
       "\n",
       "    .dataframe thead th {\n",
       "        text-align: right;\n",
       "    }\n",
       "</style>\n",
       "<table border=\"1\" class=\"dataframe\">\n",
       "  <thead>\n",
       "    <tr style=\"text-align: right;\">\n",
       "      <th></th>\n",
       "      <th>channelGrouping</th>\n",
       "      <th>date</th>\n",
       "      <th>year</th>\n",
       "      <th>month</th>\n",
       "      <th>day</th>\n",
       "      <th>yearmonth</th>\n",
       "      <th>fullVisitorId</th>\n",
       "      <th>visitId</th>\n",
       "      <th>visitNumber</th>\n",
       "      <th>visitStartTime</th>\n",
       "      <th>device.browser</th>\n",
       "      <th>device.deviceCategory</th>\n",
       "      <th>device.isMobile</th>\n",
       "      <th>device.operatingSystem</th>\n",
       "      <th>geoNetwork.city</th>\n",
       "      <th>geoNetwork.continent</th>\n",
       "      <th>geoNetwork.country</th>\n",
       "      <th>geoNetwork.metro</th>\n",
       "      <th>geoNetwork.networkDomain</th>\n",
       "      <th>geoNetwork.region</th>\n",
       "      <th>geoNetwork.subContinent</th>\n",
       "      <th>totals.bounces</th>\n",
       "      <th>totals.hits</th>\n",
       "      <th>totals.newVisits</th>\n",
       "      <th>totals.pageviews</th>\n",
       "      <th>totals.transactionRevenue</th>\n",
       "      <th>trafficSource.adContent</th>\n",
       "      <th>trafficSource.campaign</th>\n",
       "      <th>trafficSource.isTrueDirect</th>\n",
       "      <th>trafficSource.keyword</th>\n",
       "      <th>trafficSource.medium</th>\n",
       "      <th>trafficSource.referralPath</th>\n",
       "      <th>trafficSource.source</th>\n",
       "      <th>customDimensions</th>\n",
       "    </tr>\n",
       "  </thead>\n",
       "  <tbody>\n",
       "    <tr>\n",
       "      <th>0</th>\n",
       "      <td>Direct</td>\n",
       "      <td>2016-08-01</td>\n",
       "      <td>2016</td>\n",
       "      <td>8</td>\n",
       "      <td>1</td>\n",
       "      <td>201608</td>\n",
       "      <td>6849420071276447389</td>\n",
       "      <td>1470074045</td>\n",
       "      <td>1.0</td>\n",
       "      <td>1.470074e+09</td>\n",
       "      <td>Safari</td>\n",
       "      <td>desktop</td>\n",
       "      <td>False</td>\n",
       "      <td>Macintosh</td>\n",
       "      <td>Cambridge</td>\n",
       "      <td>Americas</td>\n",
       "      <td>United States</td>\n",
       "      <td>Boston MA-Manchester NH</td>\n",
       "      <td>unknown.unknown</td>\n",
       "      <td>Massachusetts</td>\n",
       "      <td>Northern America</td>\n",
       "      <td>0.0</td>\n",
       "      <td>33.0</td>\n",
       "      <td>1.0</td>\n",
       "      <td>13.0</td>\n",
       "      <td>NaN</td>\n",
       "      <td>missing</td>\n",
       "      <td>(not set)</td>\n",
       "      <td>True</td>\n",
       "      <td>missing</td>\n",
       "      <td>(none)</td>\n",
       "      <td>missing</td>\n",
       "      <td>(direct)</td>\n",
       "      <td>[{'index': '4', 'value': 'North America'}]</td>\n",
       "    </tr>\n",
       "    <tr>\n",
       "      <th>1</th>\n",
       "      <td>Referral</td>\n",
       "      <td>2016-08-01</td>\n",
       "      <td>2016</td>\n",
       "      <td>8</td>\n",
       "      <td>1</td>\n",
       "      <td>201608</td>\n",
       "      <td>1231590494443171080</td>\n",
       "      <td>1470067091</td>\n",
       "      <td>2.0</td>\n",
       "      <td>1.470067e+09</td>\n",
       "      <td>Chrome</td>\n",
       "      <td>desktop</td>\n",
       "      <td>False</td>\n",
       "      <td>Chrome OS</td>\n",
       "      <td>Mountain View</td>\n",
       "      <td>Americas</td>\n",
       "      <td>United States</td>\n",
       "      <td>San Francisco-Oakland-San Jose CA</td>\n",
       "      <td>(not set)</td>\n",
       "      <td>California</td>\n",
       "      <td>Northern America</td>\n",
       "      <td>0.0</td>\n",
       "      <td>31.0</td>\n",
       "      <td>0.0</td>\n",
       "      <td>23.0</td>\n",
       "      <td>NaN</td>\n",
       "      <td>missing</td>\n",
       "      <td>(not set)</td>\n",
       "      <td>missing</td>\n",
       "      <td>missing</td>\n",
       "      <td>(none)</td>\n",
       "      <td>/</td>\n",
       "      <td>(direct)</td>\n",
       "      <td>[{'index': '4', 'value': 'North America'}]</td>\n",
       "    </tr>\n",
       "    <tr>\n",
       "      <th>2</th>\n",
       "      <td>Direct</td>\n",
       "      <td>2016-08-01</td>\n",
       "      <td>2016</td>\n",
       "      <td>8</td>\n",
       "      <td>1</td>\n",
       "      <td>201608</td>\n",
       "      <td>6751290259214798595</td>\n",
       "      <td>1470056945</td>\n",
       "      <td>1.0</td>\n",
       "      <td>1.470057e+09</td>\n",
       "      <td>Chrome</td>\n",
       "      <td>desktop</td>\n",
       "      <td>False</td>\n",
       "      <td>Macintosh</td>\n",
       "      <td>not available in demo dataset</td>\n",
       "      <td>Americas</td>\n",
       "      <td>United States</td>\n",
       "      <td>not available in demo dataset</td>\n",
       "      <td>(not set)</td>\n",
       "      <td>not available in demo dataset</td>\n",
       "      <td>Northern America</td>\n",
       "      <td>0.0</td>\n",
       "      <td>31.0</td>\n",
       "      <td>1.0</td>\n",
       "      <td>21.0</td>\n",
       "      <td>NaN</td>\n",
       "      <td>missing</td>\n",
       "      <td>(not set)</td>\n",
       "      <td>True</td>\n",
       "      <td>missing</td>\n",
       "      <td>(none)</td>\n",
       "      <td>missing</td>\n",
       "      <td>(direct)</td>\n",
       "      <td>[{'index': '4', 'value': 'North America'}]</td>\n",
       "    </tr>\n",
       "    <tr>\n",
       "      <th>3</th>\n",
       "      <td>Referral</td>\n",
       "      <td>2016-08-01</td>\n",
       "      <td>2016</td>\n",
       "      <td>8</td>\n",
       "      <td>1</td>\n",
       "      <td>201608</td>\n",
       "      <td>3213840074316400693</td>\n",
       "      <td>1470057237</td>\n",
       "      <td>2.0</td>\n",
       "      <td>1.470057e+09</td>\n",
       "      <td>Chrome</td>\n",
       "      <td>desktop</td>\n",
       "      <td>False</td>\n",
       "      <td>Macintosh</td>\n",
       "      <td>not available in demo dataset</td>\n",
       "      <td>Americas</td>\n",
       "      <td>United States</td>\n",
       "      <td>not available in demo dataset</td>\n",
       "      <td>(not set)</td>\n",
       "      <td>not available in demo dataset</td>\n",
       "      <td>Northern America</td>\n",
       "      <td>0.0</td>\n",
       "      <td>32.0</td>\n",
       "      <td>0.0</td>\n",
       "      <td>24.0</td>\n",
       "      <td>167400000.0</td>\n",
       "      <td>missing</td>\n",
       "      <td>(not set)</td>\n",
       "      <td>missing</td>\n",
       "      <td>missing</td>\n",
       "      <td>(none)</td>\n",
       "      <td>/</td>\n",
       "      <td>(direct)</td>\n",
       "      <td>[{'index': '4', 'value': 'North America'}]</td>\n",
       "    </tr>\n",
       "    <tr>\n",
       "      <th>4</th>\n",
       "      <td>Referral</td>\n",
       "      <td>2016-08-01</td>\n",
       "      <td>2016</td>\n",
       "      <td>8</td>\n",
       "      <td>1</td>\n",
       "      <td>201608</td>\n",
       "      <td>2987126973357946088</td>\n",
       "      <td>1470112710</td>\n",
       "      <td>1.0</td>\n",
       "      <td>1.470113e+09</td>\n",
       "      <td>Chrome</td>\n",
       "      <td>desktop</td>\n",
       "      <td>False</td>\n",
       "      <td>Macintosh</td>\n",
       "      <td>Mountain View</td>\n",
       "      <td>Americas</td>\n",
       "      <td>United States</td>\n",
       "      <td>San Francisco-Oakland-San Jose CA</td>\n",
       "      <td>comcast.net</td>\n",
       "      <td>California</td>\n",
       "      <td>Northern America</td>\n",
       "      <td>0.0</td>\n",
       "      <td>32.0</td>\n",
       "      <td>1.0</td>\n",
       "      <td>24.0</td>\n",
       "      <td>NaN</td>\n",
       "      <td>missing</td>\n",
       "      <td>(not set)</td>\n",
       "      <td>missing</td>\n",
       "      <td>missing</td>\n",
       "      <td>(none)</td>\n",
       "      <td>/</td>\n",
       "      <td>(direct)</td>\n",
       "      <td>[{'index': '4', 'value': 'North America'}]</td>\n",
       "    </tr>\n",
       "  </tbody>\n",
       "</table>\n",
       "</div>"
      ],
      "text/plain": [
       "  channelGrouping        date  year  month  day  yearmonth  \\\n",
       "0          Direct  2016-08-01  2016      8    1     201608   \n",
       "1        Referral  2016-08-01  2016      8    1     201608   \n",
       "2          Direct  2016-08-01  2016      8    1     201608   \n",
       "3        Referral  2016-08-01  2016      8    1     201608   \n",
       "4        Referral  2016-08-01  2016      8    1     201608   \n",
       "\n",
       "         fullVisitorId     visitId  visitNumber  visitStartTime  \\\n",
       "0  6849420071276447389  1470074045          1.0    1.470074e+09   \n",
       "1  1231590494443171080  1470067091          2.0    1.470067e+09   \n",
       "2  6751290259214798595  1470056945          1.0    1.470057e+09   \n",
       "3  3213840074316400693  1470057237          2.0    1.470057e+09   \n",
       "4  2987126973357946088  1470112710          1.0    1.470113e+09   \n",
       "\n",
       "  device.browser device.deviceCategory  device.isMobile  \\\n",
       "0         Safari               desktop            False   \n",
       "1         Chrome               desktop            False   \n",
       "2         Chrome               desktop            False   \n",
       "3         Chrome               desktop            False   \n",
       "4         Chrome               desktop            False   \n",
       "\n",
       "  device.operatingSystem                geoNetwork.city geoNetwork.continent  \\\n",
       "0              Macintosh                      Cambridge             Americas   \n",
       "1              Chrome OS                  Mountain View             Americas   \n",
       "2              Macintosh  not available in demo dataset             Americas   \n",
       "3              Macintosh  not available in demo dataset             Americas   \n",
       "4              Macintosh                  Mountain View             Americas   \n",
       "\n",
       "  geoNetwork.country                   geoNetwork.metro  \\\n",
       "0      United States            Boston MA-Manchester NH   \n",
       "1      United States  San Francisco-Oakland-San Jose CA   \n",
       "2      United States      not available in demo dataset   \n",
       "3      United States      not available in demo dataset   \n",
       "4      United States  San Francisco-Oakland-San Jose CA   \n",
       "\n",
       "  geoNetwork.networkDomain              geoNetwork.region  \\\n",
       "0          unknown.unknown                  Massachusetts   \n",
       "1                (not set)                     California   \n",
       "2                (not set)  not available in demo dataset   \n",
       "3                (not set)  not available in demo dataset   \n",
       "4              comcast.net                     California   \n",
       "\n",
       "  geoNetwork.subContinent  totals.bounces  totals.hits  totals.newVisits  \\\n",
       "0        Northern America             0.0         33.0               1.0   \n",
       "1        Northern America             0.0         31.0               0.0   \n",
       "2        Northern America             0.0         31.0               1.0   \n",
       "3        Northern America             0.0         32.0               0.0   \n",
       "4        Northern America             0.0         32.0               1.0   \n",
       "\n",
       "   totals.pageviews  totals.transactionRevenue trafficSource.adContent  \\\n",
       "0              13.0                        NaN                 missing   \n",
       "1              23.0                        NaN                 missing   \n",
       "2              21.0                        NaN                 missing   \n",
       "3              24.0                167400000.0                 missing   \n",
       "4              24.0                        NaN                 missing   \n",
       "\n",
       "  trafficSource.campaign trafficSource.isTrueDirect trafficSource.keyword  \\\n",
       "0              (not set)                       True               missing   \n",
       "1              (not set)                    missing               missing   \n",
       "2              (not set)                       True               missing   \n",
       "3              (not set)                    missing               missing   \n",
       "4              (not set)                    missing               missing   \n",
       "\n",
       "  trafficSource.medium trafficSource.referralPath trafficSource.source  \\\n",
       "0               (none)                    missing             (direct)   \n",
       "1               (none)                          /             (direct)   \n",
       "2               (none)                    missing             (direct)   \n",
       "3               (none)                          /             (direct)   \n",
       "4               (none)                          /             (direct)   \n",
       "\n",
       "                             customDimensions  \n",
       "0  [{'index': '4', 'value': 'North America'}]  \n",
       "1  [{'index': '4', 'value': 'North America'}]  \n",
       "2  [{'index': '4', 'value': 'North America'}]  \n",
       "3  [{'index': '4', 'value': 'North America'}]  \n",
       "4  [{'index': '4', 'value': 'North America'}]  "
      ]
     },
     "execution_count": 45,
     "metadata": {},
     "output_type": "execute_result"
    }
   ],
   "source": [
    "train_df.head()"
   ]
  },
  {
   "cell_type": "code",
   "execution_count": 46,
   "metadata": {},
   "outputs": [
    {
     "data": {
      "image/png": "[encoded data removed]",
      "text/plain": [
       "<Figure size 720x360 with 1 Axes>"
      ]
     },
     "metadata": {
      "needs_background": "light"
     },
     "output_type": "display_data"
    }
   ],
   "source": [
    "plot_categorical(data=train_df, col='year', size=[10, 5], xlabel_angle=0, title='Year')"
   ]
  },
  {
   "cell_type": "code",
   "execution_count": 47,
   "metadata": {},
   "outputs": [
    {
     "data": {
      "image/png": "[encoded data removed]",
      "text/plain": [
       "<Figure size 1080x432 with 1 Axes>"
      ]
     },
     "metadata": {
      "needs_background": "light"
     },
     "output_type": "display_data"
    }
   ],
   "source": [
    "color = sns.color_palette()\n",
    "\n",
    "plt.figure(figsize=[12, 6])\n",
    "train_df[train_df['totals.transactionRevenue'] > 0].yearmonth.value_counts().sort_index().plot('barh',color=color[0],figsize=(15,6))\n",
    "plt.xlabel('Counts', fontsize=15)\n",
    "plt.ylabel('Year_Month', fontsize=15)\n",
    "plt.title('Number of transactions in different Months', fontsize=15)\n",
    "plt.show()"
   ]
  },
  {
   "cell_type": "code",
   "execution_count": 48,
   "metadata": {
    "scrolled": false
   },
   "outputs": [
    {
     "data": {
      "image/png": "[encoded data removed]",
      "text/plain": [
       "<Figure size 1080x432 with 1 Axes>"
      ]
     },
     "metadata": {
      "needs_background": "light"
     },
     "output_type": "display_data"
    }
   ],
   "source": [
    "plt.figure(figsize=[12, 6])\n",
    "train_df[train_df['totals.transactionRevenue'] > 0].day.value_counts().sort_index().plot('barh',color=color[0],figsize=(15,6))\n",
    "plt.xlabel('Counts', fontsize=15)\n",
    "plt.ylabel('Days (Mon-Sun)', fontsize=15)\n",
    "plt.title('Number of transactions in different Days', fontsize=15)\n",
    "plt.show()"
   ]
  }
 ],
 "metadata": {
  "anaconda-cloud": {},
  "kernelspec": {
   "display_name": "Python 3",
   "language": "python",
   "name": "python3"
  },
  "language_info": {
   "codemirror_mode": {
    "name": "ipython",
    "version": 3
   },
   "file_extension": ".py",
   "mimetype": "text/x-python",
   "name": "python",
   "nbconvert_exporter": "python",
   "pygments_lexer": "ipython3",
   "version": "3.7.2"
  },
  "widgets": {
   "state": {
    "0f1e348b46764927a24900e41489008d": {
     "views": [
      {
       "cell_index": 40
      }
     ]
    },
    "1fb2cc18c3aa4961935fce63569388a9": {
     "views": [
      {
       "cell_index": 47
      }
     ]
    },
    "211b8fad07a245749665920de2682fd8": {
     "views": [
      {
       "cell_index": 44
      }
     ]
    },
    "5299c40d1d524452ab0abbf2abffa190": {
     "views": [
      {
       "cell_index": 38
      }
     ]
    },
    "5a5a35eca7df423a9b0955617b1c2626": {
     "views": [
      {
       "cell_index": 51
      }
     ]
    },
    "612b513696c94f37aad92ceb5d94c74d": {
     "views": [
      {
       "cell_index": 27
      }
     ]
    },
    "8c100d790244426db7392744c58677dc": {
     "views": [
      {
       "cell_index": 29
      }
     ]
    },
    "8d6847bcd352495796c7ac51304ce7e7": {
     "views": [
      {
       "cell_index": 42
      }
     ]
    },
    "c2f71171be284a318171b9d9315360e6": {
     "views": [
      {
       "cell_index": 12
      }
     ]
    },
    "c537afebe4d447609d50c177a79f1b4f": {
     "views": [
      {
       "cell_index": 36
      }
     ]
    },
    "e0fd809e993246698325b5d51ac29d58": {
     "views": [
      {
       "cell_index": 34
      }
     ]
    },
    "f0abd7f15866434fa133e39c191fcd42": {
     "views": [
      {
       "cell_index": 31
      }
     ]
    },
    "f5569ad746d7496093b9afeb13b43239": {
     "views": [
      {
       "cell_index": 49
      }
     ]
    }
   },
   "version": "1.2.0"
  }
 },
 "nbformat": 4,
 "nbformat_minor": 1
}
